{
 "cells": [
  {
   "cell_type": "code",
   "execution_count": 47,
   "id": "6864b073-d819-4a42-8dd1-1d9f3043f9d4",
   "metadata": {},
   "outputs": [
    {
     "name": "stdin",
     "output_type": "stream",
     "text": [
      "データの日付を入力してください(例:20231118):  20240805\n",
      "測定するマッキベンの種類を入力してください(4s or 4l or 6 or s or u):  anta\n"
     ]
    }
   ],
   "source": [
    "import pandas as pd\n",
    "\n",
    "date = input(\"データの日付を入力してください(例:20231118): \")\n",
    "measurement_kind = input(\"測定するマッキベンの種類を入力してください(4s or 4l or 6 or s or u): \")"
   ]
  },
  {
   "cell_type": "code",
   "execution_count": 68,
   "id": "cdc01855-ceab-49f7-9a1e-9b9be0897173",
   "metadata": {},
   "outputs": [
    {
     "name": "stdin",
     "output_type": "stream",
     "text": [
      "圧力を入力してください(例}:4):  7\n"
     ]
    }
   ],
   "source": [
    "pressure = input(\"圧力を入力してください(例}:4): \")"
   ]
  },
  {
   "cell_type": "code",
   "execution_count": 71,
   "id": "10282c27-e867-4ed6-8738-63d7037db9e4",
   "metadata": {},
   "outputs": [
    {
     "name": "stdin",
     "output_type": "stream",
     "text": [
      "測定回数を入力してください(例:1):  3\n"
     ]
    },
    {
     "name": "stdout",
     "output_type": "stream",
     "text": [
      "      Time Length Pressure Force\n",
      "0       14    0.0    0.703   0.0\n",
      "10    2270    1.0    0.703   0.9\n",
      "19    2456    2.1    0.704   3.1\n",
      "27    2715    3.1    0.704   5.9\n",
      "37    2991    4.1    0.706   9.4\n",
      "..     ...    ...      ...   ...\n",
      "683  23574    4.8    0.704   5.2\n",
      "693  23881    3.8    0.703   2.5\n",
      "703  24192    2.8    0.704   0.2\n",
      "714  24630    1.7    0.704   0.2\n",
      "724  25162    0.7    0.704   0.5\n",
      "\n",
      "[79 rows x 4 columns]\n"
     ]
    }
   ],
   "source": [
    "file_count = input(\"測定回数を入力してください(例:1): \")\n",
    "pressure_with_decimal = f\"0.{pressure}\"\n",
    "\n",
    "# CSVデータの読み込み\n",
    "df = pd.read_csv(\n",
    "    f\"C:\\\\Users\\\\Mizuki\\\\University\\\\Reserch\\\\length_sensor\\\\JupyterLab\\\\data\\\\reflex_processed\\\\reflex_processed_{date}_{file_count}_{measurement_kind}_{pressure_with_decimal}_r.csv\"\n",
    "    #f\"C:\\\\Users\\\\Mizuki\\\\OneDrive - Kyoto University\\\\University\\\\Reserch\\\\length_sensor\\\\JupyterLab\\\\data\\\\real\\\\real_{date}_{file_count}_{measurement_kind}_{pressure_with_decimal}_s.csv\"\n",
    ")\n",
    "\n",
    "def process_data(df):\n",
    "    result_df = pd.DataFrame(columns=df.columns)\n",
    "\n",
    "    last_length = None\n",
    "    increasing = True\n",
    "\n",
    "    for index, row in df.iterrows():\n",
    "        if increasing:\n",
    "            if last_length is None or row['Length'] >= last_length + 1:\n",
    "                result_df = pd.concat([result_df, df.loc[[index]]])\n",
    "                last_length = row['Length']\n",
    "            elif row['Length'] < last_length:\n",
    "                increasing = False\n",
    "                last_length = row['Length']\n",
    "                result_df = pd.concat([result_df, df.loc[[index]]])\n",
    "        else:\n",
    "            if row['Length'] <= last_length - 1:\n",
    "                result_df = pd.concat([result_df, df.loc[[index]]])\n",
    "                last_length = row['Length']\n",
    "\n",
    "    return result_df\n",
    "\n",
    "# 処理後のデータフレームを取得\n",
    "processed_df = process_data(df)\n",
    "\n",
    "# 重複行を削除\n",
    "processed_df = processed_df.drop_duplicates()\n",
    "\n",
    "# 結果の表示\n",
    "print(processed_df)\n",
    "\n",
    "# CSVファイルに保存\n",
    "processed_df.to_csv(\n",
    "    f\"C:\\\\Users\\\\Mizuki\\\\University\\\\Reserch\\\\length_sensor\\\\JupyterLab\\\\data\\\\reflex_static_extracted\\\\{date}_{file_count}_{measurement_kind}_{pressure_with_decimal}_se.csv\",\n",
    "    #f\"C:\\\\Users\\\\Mizuki\\\\OneDrive - Kyoto University\\\\University\\\\Reserch\\\\length_sensor\\\\JupyterLab\\\\data\\\\real_static_extracted\\\\{date}_{file_count}_{measurement_kind}_{pressure_with_decimal}_se.csv\",\n",
    "    index=False,\n",
    ")\n"
   ]
  },
  {
   "cell_type": "code",
   "execution_count": null,
   "id": "acb3647e-464d-4bda-8a0c-e15fd4c103b4",
   "metadata": {
    "jp-MarkdownHeadingCollapsed": true,
    "tags": []
   },
   "outputs": [],
   "source": [
    "## "
   ]
  },
  {
   "cell_type": "code",
   "execution_count": null,
   "id": "e3d83fcc-1272-411d-b959-33c8e1bfcd13",
   "metadata": {},
   "outputs": [],
   "source": []
  }
 ],
 "metadata": {
  "kernelspec": {
   "display_name": "Python 3 (ipykernel)",
   "language": "python",
   "name": "python3"
  },
  "language_info": {
   "codemirror_mode": {
    "name": "ipython",
    "version": 3
   },
   "file_extension": ".py",
   "mimetype": "text/x-python",
   "name": "python",
   "nbconvert_exporter": "python",
   "pygments_lexer": "ipython3",
   "version": "3.8.13"
  }
 },
 "nbformat": 4,
 "nbformat_minor": 5
}

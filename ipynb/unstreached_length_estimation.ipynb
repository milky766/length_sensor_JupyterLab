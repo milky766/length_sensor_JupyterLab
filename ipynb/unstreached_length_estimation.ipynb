{
 "cells": [
  {
   "cell_type": "code",
   "execution_count": 69,
   "id": "6ad58a31-7df4-499d-84b4-61a415ccdcf5",
   "metadata": {},
   "outputs": [
    {
     "name": "stdin",
     "output_type": "stream",
     "text": [
      "Enter the data date:  20231125\n"
     ]
    }
   ],
   "source": [
    "import pandas as pd\n",
    "import numpy as np\n",
    "\n",
    "# ユーザーによる値の入力\n",
    "data_date = input(\"Enter the data date: \")"
   ]
  },
  {
   "cell_type": "code",
   "execution_count": 135,
   "id": "0571662c-fe99-465a-9d31-6941cfa9724a",
   "metadata": {},
   "outputs": [
    {
     "name": "stdin",
     "output_type": "stream",
     "text": [
      "Enter the experiment number:  1\n"
     ]
    }
   ],
   "source": [
    "experiment_number = input(\"Enter the experiment number: \")"
   ]
  },
  {
   "cell_type": "code",
   "execution_count": 106,
   "id": "4eeb69ba-e485-41c3-97f1-372aba4fb308",
   "metadata": {},
   "outputs": [
    {
     "name": "stdin",
     "output_type": "stream",
     "text": [
      "Enter the Mackieben type (6 or 4s or 4ss or s):  s\n"
     ]
    }
   ],
   "source": [
    "mackieben_type = input(\"Enter the Mackieben type (6 or 4s or 4ss or s): \")"
   ]
  },
  {
   "cell_type": "code",
   "execution_count": 140,
   "id": "54736044-ae21-4f40-b2fc-28444a10e1c9",
   "metadata": {},
   "outputs": [
    {
     "name": "stdin",
     "output_type": "stream",
     "text": [
      "Enter the pressure value:  8\n"
     ]
    },
    {
     "name": "stdout",
     "output_type": "stream",
     "text": [
      "Results saved to C:\\Users\\Mizuki\\University\\Reserch\\length_sensor\\JupyterLab\\data\\estimated_static_extracted\\20231125_1_s_0.8_ese.csv\n",
      "\n",
      "Contents of the saved file:\n",
      "     Time  Length  Pressure  Force  Estimated Unstretched Length  \\\n",
      "0    6417     0.0     0.798    0.0                     152.88172   \n",
      "1    8354     2.3     0.798    4.7                     152.88172   \n",
      "2   10285     4.9     0.801   10.9                     152.78314   \n",
      "3   12208     7.1     0.798   18.5                     152.88172   \n",
      "4   14010     9.9     0.800   32.1                     152.81600   \n",
      "5   16252    12.3     0.798   47.1                     152.88172   \n",
      "6   18147    14.7     0.800   64.1                     152.81600   \n",
      "7   20099    16.9     0.800   80.2                     152.81600   \n",
      "8   21926    19.1     0.798   97.9                     152.88172   \n",
      "9   23798    21.7     0.800  120.0                     152.81600   \n",
      "10  25676    24.1     0.801  140.4                     152.78314   \n",
      "11  27755    26.8     0.802  164.0                     152.75028   \n",
      "12  31468    31.4     0.804  206.8                     152.68456   \n",
      "13  33592    34.1     0.807  232.3                     152.58598   \n",
      "14  35722    36.6     0.809  257.6                     152.52026   \n",
      "15  38375    39.0     0.812  281.3                     152.42168   \n",
      "16  40711    36.8     0.800  252.3                     152.81600   \n",
      "17  42404    33.8     0.798  218.9                     152.88172   \n",
      "18  44303    31.8     0.798  197.8                     152.88172   \n",
      "19  45837    29.0     0.798  169.7                     152.88172   \n",
      "20  47534    26.7     0.798  146.8                     152.88172   \n",
      "21  48894    24.3     0.798  123.2                     152.88172   \n",
      "22  50753    21.8     0.798   99.6                     152.88172   \n",
      "23  53900    17.2     0.798   56.6                     152.88172   \n",
      "24  55411    14.7     0.798   36.2                     152.88172   \n",
      "25  56972    12.5     0.798   20.3                     152.88172   \n",
      "26  58712    10.0     0.798    7.5                     152.88172   \n",
      "27  60334     7.4     0.797    0.8                     152.91458   \n",
      "28  61870     4.9     0.798    3.1                     152.88172   \n",
      "29  63586     2.5     0.797    4.9                     152.91458   \n",
      "30  67657     0.2     0.798    4.9                     152.88172   \n",
      "\n",
      "    Estimated Stretched Length  \n",
      "0                    152.88172  \n",
      "1                    155.18172  \n",
      "2                    157.68314  \n",
      "3                    159.98172  \n",
      "4                    162.71600  \n",
      "5                    165.18172  \n",
      "6                    167.51600  \n",
      "7                    169.71600  \n",
      "8                    171.98172  \n",
      "9                    174.51600  \n",
      "10                   176.88314  \n",
      "11                   179.55028  \n",
      "12                   184.08456  \n",
      "13                   186.68598  \n",
      "14                   189.12026  \n",
      "15                   191.42168  \n",
      "16                   189.61600  \n",
      "17                   186.68172  \n",
      "18                   184.68172  \n",
      "19                   181.88172  \n",
      "20                   179.58172  \n",
      "21                   177.18172  \n",
      "22                   174.68172  \n",
      "23                   170.08172  \n",
      "24                   167.58172  \n",
      "25                   165.38172  \n",
      "26                   162.88172  \n",
      "27                   160.31458  \n",
      "28                   157.78172  \n",
      "29                   155.41458  \n",
      "30                   153.08172  \n"
     ]
    }
   ],
   "source": [
    "pressure_value = input(\"Enter the pressure value: \")\n",
    "pressure_decimal = f\"0.{pressure_value}\"\n",
    "\n",
    "# CSVファイルからフィッティングパラメータを読み込む\n",
    "fit_params_path = 'C:\\\\Users\\\\Mizuki\\\\University\\\\Reserch\\\\length_sensor\\\\JupyterLab\\\\data\\\\length_pressure\\\\fit_params.csv'\n",
    "fit_params = pd.read_csv(fit_params_path, index_col=0)\n",
    "\n",
    "# 簡単な入力に基づいて選択されたフィッティングパラメータの名前を取得\n",
    "parameter_mapping = {'6': 'PAM-A', '4s': 'PAM-B', '4ss': 'PAM-C', 's': 'PAM-D'}\n",
    "selected_parameter = parameter_mapping.get(mackieben_type.lower())\n",
    "\n",
    "if selected_parameter is not None:\n",
    "    # 選択されたフィッティングパラメータの値\n",
    "    selected_slope = fit_params.loc[selected_parameter, 'Slope']\n",
    "    selected_intercept = fit_params.loc[selected_parameter, 'Intercept']\n",
    "\n",
    "    # CSVファイルからPressureの値を読み込む\n",
    "    pressure_path = f'C:\\\\Users\\\\Mizuki\\\\University\\\\Reserch\\\\length_sensor\\\\JupyterLab\\\\data\\\\real_static_extracted\\\\{data_date}_{experiment_number}_{mackieben_type}_{pressure_decimal}_se.csv'\n",
    "    pressure_data = pd.read_csv(pressure_path)\n",
    "\n",
    "    # Pressureに対するLengthを推定\n",
    "    length_estimates = selected_slope * pressure_data['Pressure'] + selected_intercept\n",
    "\n",
    "    # 推定値を元のデータに追加\n",
    "    pressure_data['Estimated Unstretched Length'] = length_estimates\n",
    "\n",
    "    # length 列と Estimated Unstretched Length 列の値を足し合わせて Estimated Stretched Length 列を作成\n",
    "    pressure_data['Estimated Stretched Length'] = pressure_data['Length'] + pressure_data['Estimated Unstretched Length']\n",
    "\n",
    "    # 元のデータと推定値を別のcsvファイルに保存\n",
    "    result_path = f'C:\\\\Users\\\\Mizuki\\\\University\\\\Reserch\\\\length_sensor\\\\JupyterLab\\\\data\\\\estimated_static_extracted\\\\{data_date}_{experiment_number}_{mackieben_type}_{pressure_decimal}_ese.csv'\n",
    "    pressure_data.to_csv(result_path, index=False)\n",
    "\n",
    "    print(f\"Results saved to {result_path}\")\n",
    "\n",
    "    # 保存したファイルの中身をプリント\n",
    "    print(\"\\nContents of the saved file:\")\n",
    "    print(pressure_data)\n",
    "else:\n",
    "    print(\"Invalid input. Please enter 6, 4s, 4ss, or s.\")\n"
   ]
  },
  {
   "cell_type": "code",
   "execution_count": null,
   "id": "e7b55ef7-1e55-4144-9d0f-c1114180fd02",
   "metadata": {},
   "outputs": [],
   "source": []
  }
 ],
 "metadata": {
  "kernelspec": {
   "display_name": "Python 3 (ipykernel)",
   "language": "python",
   "name": "python3"
  },
  "language_info": {
   "codemirror_mode": {
    "name": "ipython",
    "version": 3
   },
   "file_extension": ".py",
   "mimetype": "text/x-python",
   "name": "python",
   "nbconvert_exporter": "python",
   "pygments_lexer": "ipython3",
   "version": "3.8.13"
  }
 },
 "nbformat": 4,
 "nbformat_minor": 5
}

{
 "cells": [
  {
   "cell_type": "code",
   "execution_count": 14,
   "id": "cfc1c03c-e37d-4572-bacf-6d2d7b95f5d0",
   "metadata": {},
   "outputs": [],
   "source": [
    "import pandas as pd"
   ]
  },
  {
   "cell_type": "code",
   "execution_count": 113,
   "id": "23c48acc-2d67-42ac-8170-fdbf4fb3861e",
   "metadata": {},
   "outputs": [
    {
     "name": "stdin",
     "output_type": "stream",
     "text": [
      "Enter the data date:  20231125\n"
     ]
    }
   ],
   "source": [
    "data_date = input(\"Enter the data date: \")"
   ]
  },
  {
   "cell_type": "code",
   "execution_count": 188,
   "id": "ccee14b0-d922-44cf-81e1-b83537ba8038",
   "metadata": {},
   "outputs": [
    {
     "name": "stdin",
     "output_type": "stream",
     "text": [
      "Enter the experiment number:  5\n"
     ]
    }
   ],
   "source": [
    "experiment_number = input(\"Enter the experiment number: \")"
   ]
  },
  {
   "cell_type": "code",
   "execution_count": 145,
   "id": "f5b15245-0cd6-47fc-ae4d-ab6a70501760",
   "metadata": {},
   "outputs": [
    {
     "name": "stdin",
     "output_type": "stream",
     "text": [
      "Enter the Mackieben type (6 or 4s or 4ss or s):  s\n"
     ]
    }
   ],
   "source": [
    "mackieben_type = input(\"Enter the Mackieben type (6 or 4s or 4ss or s): \")"
   ]
  },
  {
   "cell_type": "code",
   "execution_count": null,
   "id": "39b00511-ef9a-4088-bbae-0d27ecba3d74",
   "metadata": {},
   "outputs": [],
   "source": [
    "# 実験装置の構造による，実際の長さと測定している長さの差をここで入力する．この値は各マッキベンごとに異なる\n",
    "offset = float(input(\"Enter the offset value: \"))"
   ]
  },
  {
   "cell_type": "code",
   "execution_count": 194,
   "id": "dc3ab711-e945-4a8d-af70-3b55fc8e6495",
   "metadata": {},
   "outputs": [
    {
     "name": "stdin",
     "output_type": "stream",
     "text": [
      "Enter the pressure value:  8\n"
     ]
    },
    {
     "name": "stdout",
     "output_type": "stream",
     "text": [
      "Results saved to C:\\Users\\Mizuki\\University\\Reserch\\length_sensor\\JupyterLab\\data\\estimated_static_extracted\\20231125_5_s_0.8_ese.csv\n",
      "\n",
      "Contents of the saved file:\n",
      "     Time  Length  Pressure  Force  Estimated Unstretched Length  \\\n",
      "0    1383     0.0     0.798    0.0                     152.88172   \n",
      "1    3214     2.8     0.797    1.1                     152.91458   \n",
      "2    4781     5.4     0.798    1.0                     152.88172   \n",
      "3    6452     7.7     0.797    4.4                     152.91458   \n",
      "4    7810    10.3     0.797   13.9                     152.91458   \n",
      "5    9566    12.8     0.797   27.3                     152.91458   \n",
      "6   11006    15.1     0.798   42.8                     152.88172   \n",
      "7   12435    17.4     0.798   61.6                     152.88172   \n",
      "8   13941    19.9     0.798   82.9                     152.88172   \n",
      "9   15477    22.3     0.800  102.8                     152.81600   \n",
      "10  16916    25.1     0.801  129.3                     152.78314   \n",
      "11  18553    27.4     0.803  150.0                     152.71742   \n",
      "12  20129    30.1     0.806  178.3                     152.61884   \n",
      "13  21902    32.6     0.809  202.9                     152.52026   \n",
      "14  23265    34.6     0.812  224.8                     152.42168   \n",
      "15  24865    37.0     0.817  250.1                     152.25738   \n",
      "16  26657    39.5     0.820  276.9                     152.15880   \n",
      "17  28295    36.8     0.807  242.2                     152.58598   \n",
      "18  29650    34.7     0.798  218.5                     152.88172   \n",
      "19  31366    32.2     0.797  192.2                     152.91458   \n",
      "20  32782    29.6     0.796  166.3                     152.94744   \n",
      "21  34364    27.3     0.797  143.7                     152.91458   \n",
      "22  35640    24.8     0.796  119.1                     152.94744   \n",
      "23  37252    22.5     0.798   97.9                     152.88172   \n",
      "24  38615    20.0     0.797   74.1                     152.91458   \n",
      "25  40148    17.6     0.796   52.1                     152.94744   \n",
      "26  42945    12.8     0.797   14.7                     152.91458   \n",
      "27  44421    10.3     0.798    4.9                     152.88172   \n",
      "28  45954     7.7     0.797    0.3                     152.91458   \n",
      "29  47356     5.2     0.798    2.1                     152.88172   \n",
      "30  48908     2.8     0.797    2.6                     152.91458   \n",
      "31  53624     0.3     0.798    3.0                     152.88172   \n",
      "\n",
      "    Estimated Stretched Length  Real Stretched Length  \n",
      "0                    152.88172                 150.88  \n",
      "1                    155.71458                 153.68  \n",
      "2                    158.28172                 156.28  \n",
      "3                    160.61458                 158.58  \n",
      "4                    163.21458                 161.18  \n",
      "5                    165.71458                 163.68  \n",
      "6                    167.98172                 165.98  \n",
      "7                    170.28172                 168.28  \n",
      "8                    172.78172                 170.78  \n",
      "9                    175.11600                 173.18  \n",
      "10                   177.88314                 175.98  \n",
      "11                   180.11742                 178.28  \n",
      "12                   182.71884                 180.98  \n",
      "13                   185.12026                 183.48  \n",
      "14                   187.02168                 185.48  \n",
      "15                   189.25738                 187.88  \n",
      "16                   191.65880                 190.38  \n",
      "17                   189.38598                 187.68  \n",
      "18                   187.58172                 185.58  \n",
      "19                   185.11458                 183.08  \n",
      "20                   182.54744                 180.48  \n",
      "21                   180.21458                 178.18  \n",
      "22                   177.74744                 175.68  \n",
      "23                   175.38172                 173.38  \n",
      "24                   172.91458                 170.88  \n",
      "25                   170.54744                 168.48  \n",
      "26                   165.71458                 163.68  \n",
      "27                   163.18172                 161.18  \n",
      "28                   160.61458                 158.58  \n",
      "29                   158.08172                 156.08  \n",
      "30                   155.71458                 153.68  \n",
      "31                   153.18172                 151.18  \n"
     ]
    }
   ],
   "source": [
    "pressure_value = input(\"Enter the pressure value: \")\n",
    "pressure_decimal2 = float(f\"0.{pressure_value}\")\n",
    "\n",
    "# CSVファイルからフィッティングパラメータを読み込む\n",
    "fit_params_path = 'C:\\\\Users\\\\Mizuki\\\\University\\\\Reserch\\\\length_sensor\\\\JupyterLab\\\\data\\\\length_pressure\\\\fit_params.csv'\n",
    "fit_params = pd.read_csv(fit_params_path, index_col=0)\n",
    "\n",
    "fit_params2_path = 'C:\\\\Users\\\\Mizuki\\\\University\\\\Reserch\\\\length_sensor\\\\JupyterLab\\\\data\\\\length_pressure\\\\length_pressure.csv'\n",
    "fit_params2 = pd.read_csv(fit_params2_path, index_col=0)\n",
    "\n",
    "# 簡単な入力に基づいて選択されたフィッティングパラメータの名前を取得\n",
    "parameter_mapping = {'6': 'PAM-A', '4s': 'PAM-B', '4ss': 'PAM-C', 's': 'PAM-D'}\n",
    "selected_parameter = parameter_mapping.get(mackieben_type.lower())\n",
    "\n",
    "# 選択された行と列の値を取得\n",
    "selected_value = fit_params2.loc[pressure_decimal2, selected_parameter]\n",
    "\n",
    "if selected_parameter is not None:\n",
    "    # 選択されたフィッティングパラメータの値\n",
    "    selected_slope = fit_params.loc[selected_parameter, 'Slope']\n",
    "    selected_intercept = fit_params.loc[selected_parameter, 'Intercept']\n",
    "\n",
    "    # CSVファイルからPressureの値を読み込む\n",
    "    pressure_path = f'C:\\\\Users\\\\Mizuki\\\\University\\\\Reserch\\\\length_sensor\\\\JupyterLab\\\\data\\\\real_static_extracted\\\\{data_date}_{experiment_number}_{mackieben_type}_{pressure_decimal2}_se.csv'\n",
    "    pressure_data = pd.read_csv(pressure_path)\n",
    "\n",
    "    # Pressureに対するLengthを推定\n",
    "    length_estimates = selected_slope * pressure_data['Pressure'] + selected_intercept\n",
    "\n",
    "    # 推定値を元のデータに追加\n",
    "    pressure_data['Estimated Unstretched Length'] = length_estimates\n",
    "\n",
    "    # length 列と Estimated Unstretched Length 列の値を足し合わせて Estimated Stretched Length 列を作成\n",
    "    pressure_data['Estimated Stretched Length'] = pressure_data['Length'] + pressure_data['Estimated Unstretched Length']\n",
    "\n",
    "    # length 列と selected_valueの値を足し合わせて Real Stretched Length 列を作成\n",
    "    pressure_data['Real Stretched Length'] = pressure_data['Length'] + selected_value\n",
    "    \n",
    "    # offsetの値を各行に加える\n",
    "    pressure_data['Estimated Unstretched Length'] += offset\n",
    "    pressure_data['Estimated Stretched Length'] += offset\n",
    "    pressure_data['Real Stretched Length'] += offset\n",
    "\n",
    "\n",
    "    # 元のデータと推定値を別のcsvファイルに保存\n",
    "    result_path = f'C:\\\\Users\\\\Mizuki\\\\University\\\\Reserch\\\\length_sensor\\\\JupyterLab\\\\data\\\\estimated_static_extracted\\\\{data_date}_{experiment_number}_{mackieben_type}_{pressure_decimal2}_ese.csv'\n",
    "    pressure_data.to_csv(result_path, index=False)\n",
    "\n",
    "    print(f\"Results saved to {result_path}\")\n",
    "\n",
    "    # 保存したファイルの中身をプリント\n",
    "    print(\"\\nContents of the saved file:\")\n",
    "    print(pressure_data)\n",
    "else:\n",
    "    print(\"Invalid input. Please enter 6, 4s, 4ss, or s.\")"
   ]
  },
  {
   "cell_type": "code",
   "execution_count": null,
   "id": "44c863f1-628b-42d9-91c2-6380bbcaf214",
   "metadata": {},
   "outputs": [],
   "source": []
  }
 ],
 "metadata": {
  "kernelspec": {
   "display_name": "Python 3 (ipykernel)",
   "language": "python",
   "name": "python3"
  },
  "language_info": {
   "codemirror_mode": {
    "name": "ipython",
    "version": 3
   },
   "file_extension": ".py",
   "mimetype": "text/x-python",
   "name": "python",
   "nbconvert_exporter": "python",
   "pygments_lexer": "ipython3",
   "version": "3.8.13"
  }
 },
 "nbformat": 4,
 "nbformat_minor": 5
}

{
 "cells": [
  {
   "cell_type": "code",
   "execution_count": 2,
   "id": "a8589454-be90-4149-9ed6-42856cc8037a",
   "metadata": {},
   "outputs": [
    {
     "name": "stdin",
     "output_type": "stream",
     "text": [
      "動的テストの日付を入力してください:  20231207\n"
     ]
    }
   ],
   "source": [
    "import pandas as pd\n",
    "\n",
    "data = input(\"動的テストの日付を入力してください: \")"
   ]
  },
  {
   "cell_type": "code",
   "execution_count": 3,
   "id": "15da355c-6588-4e56-901f-c8c6a54590ee",
   "metadata": {},
   "outputs": [
    {
     "name": "stdin",
     "output_type": "stream",
     "text": [
      "動的テストの回数を入力してください:  1\n"
     ]
    }
   ],
   "source": [
    "count1 = input(\"動的テストの回数を入力してください: \")"
   ]
  },
  {
   "cell_type": "code",
   "execution_count": 8,
   "id": "12fbb3fc-edf4-4b46-8872-53f071f8fea0",
   "metadata": {},
   "outputs": [
    {
     "name": "stdin",
     "output_type": "stream",
     "text": [
      "マッキベンの種類を入力してください:  6\n"
     ]
    }
   ],
   "source": [
    "kind = input(\"マッキベンの種類を入力してください: \")"
   ]
  },
  {
   "cell_type": "code",
   "execution_count": 7,
   "id": "e3cb77a0-f247-41a0-b2fa-97aedb26ca9c",
   "metadata": {},
   "outputs": [
    {
     "name": "stdin",
     "output_type": "stream",
     "text": [
      "静的テストの回数を入力してください:  5\n"
     ]
    },
    {
     "name": "stdout",
     "output_type": "stream",
     "text": [
      "0     -0.913872\n",
      "1     -0.897769\n",
      "2     -1.005883\n",
      "3     -0.921020\n",
      "4     -0.879402\n",
      "         ...   \n",
      "216         NaN\n",
      "217         NaN\n",
      "218         NaN\n",
      "219         NaN\n",
      "220         NaN\n",
      "Name: Error_Percentage_Contraction, Length: 221, dtype: float64\n",
      "0           NaN\n",
      "1           NaN\n",
      "2           NaN\n",
      "3           NaN\n",
      "4           NaN\n",
      "         ...   \n",
      "216   -0.292753\n",
      "217   -0.401300\n",
      "218   -0.434220\n",
      "219   -0.472203\n",
      "220   -0.547975\n",
      "Name: Error_Percentage_Extension, Length: 221, dtype: float64\n"
     ]
    }
   ],
   "source": [
    "count2 = input(\"静的テストの回数を入力してください: \")\n",
    "\n",
    "# CSVファイルを読み込む（ファイルパスは適切に変更してください）\n",
    "df = pd.read_csv(f'C:\\\\Users\\\\Mizuki\\\\University\\\\Reserch\\\\length_sensor\\\\JupyterLab\\\\data\\\\estimated_L_for_dynamic_experiment\\\\{data}_{count1}_{kind}_by_{count2}_L_estimation_2d_ec.csv')\n",
    "\n",
    "# 誤差を計算して新しい列 'Error_Percentage' を追加する\n",
    "df['Error_Percentage_Contraction'] = ((df['Real_Estimated_Length_Contraction'] - df['real_length_contraction']) / df['real_length_contraction']) * 100\n",
    "df['Error_Percentage_Extension'] = ((df['Real_Estimated_Length_Extension'] - df['real_length_extension']) / df['real_length_extension']) * 100\n",
    "\n",
    "df.to_csv(f'C:\\\\Users\\\\Mizuki\\\\University\\\\Reserch\\\\length_sensor\\\\JupyterLab\\\\data\\\\estimated_L_for_dynamic_experiment\\\\{data}_{count1}_{kind}_by_{count2}_L_estimation_2d_ec.csv', index=False)\n",
    "\n",
    "print(df['Error_Percentage_Contraction'])\n",
    "print(df['Error_Percentage_Extension'])"
   ]
  },
  {
   "cell_type": "code",
   "execution_count": null,
   "id": "a749ec97-8dab-4ff3-8cde-bfa24b67089c",
   "metadata": {},
   "outputs": [],
   "source": []
  }
 ],
 "metadata": {
  "kernelspec": {
   "display_name": "Python 3 (ipykernel)",
   "language": "python",
   "name": "python3"
  },
  "language_info": {
   "codemirror_mode": {
    "name": "ipython",
    "version": 3
   },
   "file_extension": ".py",
   "mimetype": "text/x-python",
   "name": "python",
   "nbconvert_exporter": "python",
   "pygments_lexer": "ipython3",
   "version": "3.8.13"
  }
 },
 "nbformat": 4,
 "nbformat_minor": 5
}

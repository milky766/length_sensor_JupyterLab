{
 "cells": [
  {
   "cell_type": "code",
   "execution_count": 1,
   "id": "6f23a9f9-1971-486b-abc4-60437514a7f5",
   "metadata": {},
   "outputs": [
    {
     "ename": "NameError",
     "evalue": "name 'pressure_ranges' is not defined",
     "output_type": "error",
     "traceback": [
      "\u001b[1;31m---------------------------------------------------------------------------\u001b[0m",
      "\u001b[1;31mNameError\u001b[0m                                 Traceback (most recent call last)",
      "Input \u001b[1;32mIn [1]\u001b[0m, in \u001b[0;36m<cell line: 16>\u001b[1;34m()\u001b[0m\n\u001b[0;32m     13\u001b[0m colors \u001b[38;5;241m=\u001b[39m plt\u001b[38;5;241m.\u001b[39mrcParams[\u001b[38;5;124m'\u001b[39m\u001b[38;5;124maxes.prop_cycle\u001b[39m\u001b[38;5;124m'\u001b[39m]\u001b[38;5;241m.\u001b[39mby_key()[\u001b[38;5;124m'\u001b[39m\u001b[38;5;124mcolor\u001b[39m\u001b[38;5;124m'\u001b[39m]  \u001b[38;5;66;03m# Get colors from the color cycle\u001b[39;00m\n\u001b[0;32m     15\u001b[0m \u001b[38;5;66;03m# Loop through each PAM to plot\u001b[39;00m\n\u001b[1;32m---> 16\u001b[0m \u001b[38;5;28;01mfor\u001b[39;00m i, (col, (min_pressure, max_pressure)) \u001b[38;5;129;01min\u001b[39;00m \u001b[38;5;28menumerate\u001b[39m(\u001b[43mpressure_ranges\u001b[49m\u001b[38;5;241m.\u001b[39mitems()):\n\u001b[0;32m     17\u001b[0m     \u001b[38;5;66;03m# Filter data for regression within the specified pressure range\u001b[39;00m\n\u001b[0;32m     18\u001b[0m     df_for_regression \u001b[38;5;241m=\u001b[39m df[(df\u001b[38;5;241m.\u001b[39mindex \u001b[38;5;241m>\u001b[39m\u001b[38;5;241m=\u001b[39m min_pressure) \u001b[38;5;241m&\u001b[39m (df\u001b[38;5;241m.\u001b[39mindex \u001b[38;5;241m<\u001b[39m\u001b[38;5;241m=\u001b[39m max_pressure)][col]\u001b[38;5;241m.\u001b[39mdropna()\n\u001b[0;32m     19\u001b[0m     x \u001b[38;5;241m=\u001b[39m df_for_regression\u001b[38;5;241m.\u001b[39mindex\u001b[38;5;241m.\u001b[39mvalues\n",
      "\u001b[1;31mNameError\u001b[0m: name 'pressure_ranges' is not defined"
     ]
    },
    {
     "data": {
      "image/png": "[encoded data removed]",
      "text/plain": [
       "<Figure size 432x288 with 1 Axes>"
      ]
     },
     "metadata": {
      "needs_background": "light"
     },
     "output_type": "display_data"
    }
   ],
   "source": [
    "import pandas as pd\n",
    "import numpy as np\n",
    "import matplotlib.pyplot as plt\n",
    "\n",
    "# Rechecking the dataframe for available data\n",
    "df = pd.read_csv('C:\\\\Users\\\\Mizuki\\\\University\\\\Reserch\\\\length_sensor\\\\JupyterLab\\\\data\\\\length_pressure\\\\length_pressure.csv')\n",
    "\n",
    "# Re-plotting the graph with the correct pressure ranges and ensuring that the legend and regression lines are correct.\n",
    "fig, ax = plt.subplots()\n",
    "\n",
    "# Set markers and colors for each PAM\n",
    "markers = ['o', 's', '^', 'D']  # Markers for each PAM\n",
    "colors = plt.rcParams['axes.prop_cycle'].by_key()['color']  # Get colors from the color cycle\n",
    "\n",
    "# Loop through each PAM to plot\n",
    "for i, (col, (min_pressure, max_pressure)) in enumerate(pressure_ranges.items()):\n",
    "    # Filter data for regression within the specified pressure range\n",
    "    df_for_regression = df[(df.index >= min_pressure) & (df.index <= max_pressure)][col].dropna()\n",
    "    x = df_for_regression.index.values\n",
    "    y = df_for_regression.values\n",
    "    \n",
    "    # Perform linear regression if data is available\n",
    "    if len(x) > 0:\n",
    "        model = np.polyfit(x, y, 1)\n",
    "        p = np.poly1d(model)  # Polynomial for the regression line\n",
    "        \n",
    "        # Plot data points\n",
    "        ax.plot(x, y, label=col, marker=markers[i], linestyle='None', markersize=5, color=colors[i])\n",
    "        \n",
    "        # Plot regression line\n",
    "        x_line = np.linspace(min_pressure, max_pressure, 100)\n",
    "        y_line = p(x_line)\n",
    "        ax.plot(x_line, y_line, linestyle='--', color=colors[i])\n",
    "\n",
    "# Set labels and title\n",
    "ax.set_xlabel('$P$[MPa]')\n",
    "ax.set_ylabel('$L_u$[mm]')\n",
    "ax.set_xticks(np.arange(0.2, 0.9, 0.1))\n",
    "ax.legend()\n",
    "plt.grid(True)\n",
    "\n",
    "save_path = 'C:\\\\Users\\\\Mizuki\\\\University\\\\Reserch\\\\length_sensor\\\\JupyterLab\\\\graph\\\\length_pressure\\\\length_pressure.jpg'  # 保存先のパスを変更\n",
    "plt.savefig(save_path, bbox_inches='tight')  # bbox_inches='tight' で余白を最小限に設定\n",
    "plt.show()\n",
    "\n",
    "# Re-calculating the intercept and slope for each PAM's regression line\n",
    "regression_results = {}\n",
    "\n",
    "# Plotting is not necessary for this calculation, so we will skip that part\n",
    "for col in df.columns:\n",
    "    # Select data for regression based on the specified pressure range\n",
    "    min_pressure, max_pressure = pressure_ranges[col]\n",
    "    df_for_regression = df[(df.index >= min_pressure) & (df.index <= max_pressure)][col].dropna()\n",
    "    x = df_for_regression.index.values\n",
    "    y = df_for_regression.values\n",
    "    \n",
    "    # Perform linear regression if data is available\n",
    "    if len(x) > 0 and len(y) > 0:\n",
    "        model = np.polyfit(x, y, 1)\n",
    "        # Coefficients (slope and intercept) are in the model array\n",
    "        slope, intercept = model\n",
    "        regression_results[col] = {'slope': slope, 'intercept': intercept}\n",
    "\n",
    "regression_results\n",
    "\n",
    "\n"
   ]
  },
  {
   "cell_type": "code",
   "execution_count": null,
   "id": "a82edc39-0de4-4be6-9881-7b3bd3f66b7f",
   "metadata": {},
   "outputs": [
    {
     "ename": "NameError",
     "evalue": "name 'df' is not defined",
     "output_type": "error",
     "traceback": [
      "\u001b[1;31m---------------------------------------------------------------------------\u001b[0m",
      "\u001b[1;31mNameError\u001b[0m                                 Traceback (most recent call last)",
      "Input \u001b[1;32mIn [1]\u001b[0m, in \u001b[0;36m<cell line: 2>\u001b[1;34m()\u001b[0m\n\u001b[0;32m      1\u001b[0m \u001b[38;5;66;03m# Rechecking the dataframe for available data\u001b[39;00m\n\u001b[1;32m----> 2\u001b[0m \u001b[43mdf\u001b[49m\n\u001b[0;32m      4\u001b[0m \u001b[38;5;66;03m# Re-plotting the graph with the correct pressure ranges and ensuring that the legend and regression lines are correct.\u001b[39;00m\n\u001b[0;32m      5\u001b[0m fig, ax \u001b[38;5;241m=\u001b[39m plt\u001b[38;5;241m.\u001b[39msubplots()\n",
      "\u001b[1;31mNameError\u001b[0m: name 'df' is not defined"
     ]
    }
   ],
   "source": [
    "\n",
    "# Rechecking the dataframe for available data\n",
    "df\n",
    "\n",
    "# Re-plotting the graph with the correct pressure ranges and ensuring that the legend and regression lines are correct.\n",
    "fig, ax = plt.subplots()\n",
    "\n",
    "# Set markers and colors for each PAM\n",
    "markers = ['o', 's', '^', 'D']  # Markers for each PAM\n",
    "colors = plt.rcParams['axes.prop_cycle'].by_key()['color']  # Get colors from the color cycle\n",
    "\n",
    "# Loop through each PAM to plot\n",
    "for i, (col, (min_pressure, max_pressure)) in enumerate(pressure_ranges.items()):\n",
    "    # Filter data for regression within the specified pressure range\n",
    "    df_for_regression = df[(df.index >= min_pressure) & (df.index <= max_pressure)][col].dropna()\n",
    "    x = df_for_regression.index.values\n",
    "    y = df_for_regression.values\n",
    "    \n",
    "    # Perform linear regression if data is available\n",
    "    if len(x) > 0:\n",
    "        model = np.polyfit(x, y, 1)\n",
    "        p = np.poly1d(model)  # Polynomial for the regression line\n",
    "        \n",
    "        # Plot data points\n",
    "        ax.plot(x, y, label=col, marker=markers[i], linestyle='None', markersize=5, color=colors[i])\n",
    "        \n",
    "        # Plot regression line\n",
    "        x_line = np.linspace(min_pressure, max_pressure, 100)\n",
    "        y_line = p(x_line)\n",
    "        ax.plot(x_line, y_line, linestyle='--', color=colors[i])\n",
    "\n",
    "# Set labels and title\n",
    "ax.set_xlabel('$Presure$[MPa]')\n",
    "ax.set_ylabel('$Natural Length$[mm]')\n",
    "ax.set_xticks(np.arange(0.2, 0.9, 0.1))\n",
    "ax.legend()\n",
    "plt.grid(True)\n",
    "\n",
    "save_path = 'C:\\\\Users\\\\Mizuki\\\\University\\\\Reserch\\\\length_sensor\\\\JupyterLab\\\\graph\\\\length_pressure\\\\length_pressure_ieee.jpg'  # 保存先のパスを変更\n",
    "plt.savefig(save_path, bbox_inches='tight')  # bbox_inches='tight' で余白を最小限に設定\n",
    "plt.show()\n",
    "\n",
    "# Re-calculating the intercept and slope for each PAM's regression line\n",
    "regression_results = {}\n",
    "\n",
    "# Plotting is not necessary for this calculation, so we will skip that part\n",
    "for col in df.columns:\n",
    "    # Select data for regression based on the specified pressure range\n",
    "    min_pressure, max_pressure = pressure_ranges[col]\n",
    "    df_for_regression = df[(df.index >= min_pressure) & (df.index <= max_pressure)][col].dropna()\n",
    "    x = df_for_regression.index.values\n",
    "    y = df_for_regression.values\n",
    "    \n",
    "    # Perform linear regression if data is available\n",
    "    if len(x) > 0 and len(y) > 0:\n",
    "        model = np.polyfit(x, y, 1)\n",
    "        # Coefficients (slope and intercept) are in the model array\n",
    "        slope, intercept = model\n",
    "        regression_results[col] = {'slope': slope, 'intercept': intercept}\n",
    "\n",
    "regression_results\n",
    "\n",
    "\n"
   ]
  }
 ],
 "metadata": {
  "kernelspec": {
   "display_name": "Python 3 (ipykernel)",
   "language": "python",
   "name": "python3"
  },
  "language_info": {
   "codemirror_mode": {
    "name": "ipython",
    "version": 3
   },
   "file_extension": ".py",
   "mimetype": "text/x-python",
   "name": "python",
   "nbconvert_exporter": "python",
   "pygments_lexer": "ipython3",
   "version": "3.8.13"
  }
 },
 "nbformat": 4,
 "nbformat_minor": 5
}

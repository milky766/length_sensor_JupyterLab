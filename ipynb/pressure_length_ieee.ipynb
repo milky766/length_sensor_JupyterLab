{
 "cells": [
  {
   "cell_type": "code",
   "execution_count": 3,
   "id": "edb02fe2-5235-4ea3-ac4d-f1e81085eee3",
   "metadata": {},
   "outputs": [
    {
     "ename": "LinAlgError",
     "evalue": "SVD did not converge in Linear Least Squares",
     "output_type": "error",
     "traceback": [
      "\u001b[1;31m---------------------------------------------------------------------------\u001b[0m",
      "\u001b[1;31mLinAlgError\u001b[0m                               Traceback (most recent call last)",
      "Input \u001b[1;32mIn [3]\u001b[0m, in \u001b[0;36m<cell line: 18>\u001b[1;34m()\u001b[0m\n\u001b[0;32m     20\u001b[0m x \u001b[38;5;241m=\u001b[39m data\u001b[38;5;241m.\u001b[39mindex\u001b[38;5;241m.\u001b[39mvalues\u001b[38;5;241m.\u001b[39mreshape(\u001b[38;5;241m-\u001b[39m\u001b[38;5;241m1\u001b[39m, \u001b[38;5;241m1\u001b[39m)\n\u001b[0;32m     21\u001b[0m y \u001b[38;5;241m=\u001b[39m data[col]\u001b[38;5;241m.\u001b[39mvalues\u001b[38;5;241m.\u001b[39mreshape(\u001b[38;5;241m-\u001b[39m\u001b[38;5;241m1\u001b[39m, \u001b[38;5;241m1\u001b[39m)\n\u001b[1;32m---> 22\u001b[0m model \u001b[38;5;241m=\u001b[39m \u001b[43mnp\u001b[49m\u001b[38;5;241;43m.\u001b[39;49m\u001b[43mpolyfit\u001b[49m\u001b[43m(\u001b[49m\u001b[43mx\u001b[49m\u001b[38;5;241;43m.\u001b[39;49m\u001b[43mflatten\u001b[49m\u001b[43m(\u001b[49m\u001b[43m)\u001b[49m\u001b[43m,\u001b[49m\u001b[43m \u001b[49m\u001b[43my\u001b[49m\u001b[38;5;241;43m.\u001b[39;49m\u001b[43mflatten\u001b[49m\u001b[43m(\u001b[49m\u001b[43m)\u001b[49m\u001b[43m,\u001b[49m\u001b[43m \u001b[49m\u001b[38;5;241;43m1\u001b[39;49m\u001b[43m)\u001b[49m\n\u001b[0;32m     23\u001b[0m predicted \u001b[38;5;241m=\u001b[39m np\u001b[38;5;241m.\u001b[39mpoly1d(model)(x)\n\u001b[0;32m     25\u001b[0m \u001b[38;5;66;03m# データ点のプロット\u001b[39;00m\n",
      "File \u001b[1;32m<__array_function__ internals>:180\u001b[0m, in \u001b[0;36mpolyfit\u001b[1;34m(*args, **kwargs)\u001b[0m\n",
      "File \u001b[1;32m~\\AppData\\Roaming\\jupyterlab-desktop\\jlab_server\\lib\\site-packages\\numpy\\lib\\polynomial.py:668\u001b[0m, in \u001b[0;36mpolyfit\u001b[1;34m(x, y, deg, rcond, full, w, cov)\u001b[0m\n\u001b[0;32m    666\u001b[0m scale \u001b[38;5;241m=\u001b[39m NX\u001b[38;5;241m.\u001b[39msqrt((lhs\u001b[38;5;241m*\u001b[39mlhs)\u001b[38;5;241m.\u001b[39msum(axis\u001b[38;5;241m=\u001b[39m\u001b[38;5;241m0\u001b[39m))\n\u001b[0;32m    667\u001b[0m lhs \u001b[38;5;241m/\u001b[39m\u001b[38;5;241m=\u001b[39m scale\n\u001b[1;32m--> 668\u001b[0m c, resids, rank, s \u001b[38;5;241m=\u001b[39m \u001b[43mlstsq\u001b[49m\u001b[43m(\u001b[49m\u001b[43mlhs\u001b[49m\u001b[43m,\u001b[49m\u001b[43m \u001b[49m\u001b[43mrhs\u001b[49m\u001b[43m,\u001b[49m\u001b[43m \u001b[49m\u001b[43mrcond\u001b[49m\u001b[43m)\u001b[49m\n\u001b[0;32m    669\u001b[0m c \u001b[38;5;241m=\u001b[39m (c\u001b[38;5;241m.\u001b[39mT\u001b[38;5;241m/\u001b[39mscale)\u001b[38;5;241m.\u001b[39mT  \u001b[38;5;66;03m# broadcast scale coefficients\u001b[39;00m\n\u001b[0;32m    671\u001b[0m \u001b[38;5;66;03m# warn on rank reduction, which indicates an ill conditioned matrix\u001b[39;00m\n",
      "File \u001b[1;32m<__array_function__ internals>:180\u001b[0m, in \u001b[0;36mlstsq\u001b[1;34m(*args, **kwargs)\u001b[0m\n",
      "File \u001b[1;32m~\\AppData\\Roaming\\jupyterlab-desktop\\jlab_server\\lib\\site-packages\\numpy\\linalg\\linalg.py:2292\u001b[0m, in \u001b[0;36mlstsq\u001b[1;34m(a, b, rcond)\u001b[0m\n\u001b[0;32m   2289\u001b[0m \u001b[38;5;28;01mif\u001b[39;00m n_rhs \u001b[38;5;241m==\u001b[39m \u001b[38;5;241m0\u001b[39m:\n\u001b[0;32m   2290\u001b[0m     \u001b[38;5;66;03m# lapack can't handle n_rhs = 0 - so allocate the array one larger in that axis\u001b[39;00m\n\u001b[0;32m   2291\u001b[0m     b \u001b[38;5;241m=\u001b[39m zeros(b\u001b[38;5;241m.\u001b[39mshape[:\u001b[38;5;241m-\u001b[39m\u001b[38;5;241m2\u001b[39m] \u001b[38;5;241m+\u001b[39m (m, n_rhs \u001b[38;5;241m+\u001b[39m \u001b[38;5;241m1\u001b[39m), dtype\u001b[38;5;241m=\u001b[39mb\u001b[38;5;241m.\u001b[39mdtype)\n\u001b[1;32m-> 2292\u001b[0m x, resids, rank, s \u001b[38;5;241m=\u001b[39m \u001b[43mgufunc\u001b[49m\u001b[43m(\u001b[49m\u001b[43ma\u001b[49m\u001b[43m,\u001b[49m\u001b[43m \u001b[49m\u001b[43mb\u001b[49m\u001b[43m,\u001b[49m\u001b[43m \u001b[49m\u001b[43mrcond\u001b[49m\u001b[43m,\u001b[49m\u001b[43m \u001b[49m\u001b[43msignature\u001b[49m\u001b[38;5;241;43m=\u001b[39;49m\u001b[43msignature\u001b[49m\u001b[43m,\u001b[49m\u001b[43m \u001b[49m\u001b[43mextobj\u001b[49m\u001b[38;5;241;43m=\u001b[39;49m\u001b[43mextobj\u001b[49m\u001b[43m)\u001b[49m\n\u001b[0;32m   2293\u001b[0m \u001b[38;5;28;01mif\u001b[39;00m m \u001b[38;5;241m==\u001b[39m \u001b[38;5;241m0\u001b[39m:\n\u001b[0;32m   2294\u001b[0m     x[\u001b[38;5;241m.\u001b[39m\u001b[38;5;241m.\u001b[39m\u001b[38;5;241m.\u001b[39m] \u001b[38;5;241m=\u001b[39m \u001b[38;5;241m0\u001b[39m\n",
      "File \u001b[1;32m~\\AppData\\Roaming\\jupyterlab-desktop\\jlab_server\\lib\\site-packages\\numpy\\linalg\\linalg.py:100\u001b[0m, in \u001b[0;36m_raise_linalgerror_lstsq\u001b[1;34m(err, flag)\u001b[0m\n\u001b[0;32m     99\u001b[0m \u001b[38;5;28;01mdef\u001b[39;00m \u001b[38;5;21m_raise_linalgerror_lstsq\u001b[39m(err, flag):\n\u001b[1;32m--> 100\u001b[0m     \u001b[38;5;28;01mraise\u001b[39;00m LinAlgError(\u001b[38;5;124m\"\u001b[39m\u001b[38;5;124mSVD did not converge in Linear Least Squares\u001b[39m\u001b[38;5;124m\"\u001b[39m)\n",
      "\u001b[1;31mLinAlgError\u001b[0m: SVD did not converge in Linear Least Squares"
     ]
    },
    {
     "data": {
      "text/plain": [
       "<Figure size 720x432 with 0 Axes>"
      ]
     },
     "metadata": {},
     "output_type": "display_data"
    },
    {
     "data": {
      "image/png": "[encoded data removed]",
      "text/plain": [
       "<Figure size 432x288 with 1 Axes>"
      ]
     },
     "metadata": {
      "needs_background": "light"
     },
     "output_type": "display_data"
    }
   ],
   "source": [
    "import matplotlib.pyplot as plt\n",
    "import pandas as pd\n",
    "import numpy as np  # numpyが必要です\n",
    "\n",
    "# データの読み込み\n",
    "file_path = \"C:\\\\Users\\\\Mizuki\\\\University\\\\Reserch\\\\length_sensor\\\\JupyterLab\\\\data\\\\length_pressure\\\\length_pressure.csv\"\n",
    "data = pd.read_csv(file_path)\n",
    "\n",
    "# データの確認\n",
    "data.head()\n",
    "\n",
    "# グラフのプロット\n",
    "plt.figure(figsize=(10, 6))\n",
    "fig, ax = plt.subplots()\n",
    "markers = ['o', 's', '^', 'D']  # 各データに対する記号を指定\n",
    "colors = plt.rcParams['axes.prop_cycle'].by_key()['color']  # カラーサイクルから色を取得\n",
    "\n",
    "for i, col in enumerate(data.columns):\n",
    "    # 線形回帰の計算\n",
    "    x = data.index.values.reshape(-1, 1)\n",
    "    y = data[col].values.reshape(-1, 1)\n",
    "    model = np.polyfit(x.flatten(), y.flatten(), 1)\n",
    "    predicted = np.poly1d(model)(x)\n",
    "\n",
    "    # データ点のプロット\n",
    "    ax.plot(data.index, data[col], label=col, marker=markers[i], linestyle='None', markersize=5, color=colors[i])\n",
    "\n",
    "    # 最小二乗法による線をプロット\n",
    "    ax.plot(data.index, predicted, linestyle='--', color=colors[i])\n",
    "\n",
    "ax.set_xticks(np.arange(0.2, 0.9, 0.1))\n",
    "\n",
    "plt.xlabel('Pressure [MPa]')\n",
    "plt.ylabel('Natural Length [mm]')\n",
    "plt.legend()\n",
    "plt.grid(True)\n",
    "plt.show()\n"
   ]
  },
  {
   "cell_type": "code",
   "execution_count": 9,
   "id": "cebed7b2-e5bc-45f9-a561-9ded7fb07572",
   "metadata": {},
   "outputs": [
    {
     "ename": "NameError",
     "evalue": "name 'df' is not defined",
     "output_type": "error",
     "traceback": [
      "\u001b[1;31m---------------------------------------------------------------------------\u001b[0m",
      "\u001b[1;31mNameError\u001b[0m                                 Traceback (most recent call last)",
      "Input \u001b[1;32mIn [9]\u001b[0m, in \u001b[0;36m<cell line: 9>\u001b[1;34m()\u001b[0m\n\u001b[0;32m      6\u001b[0m file_path \u001b[38;5;241m=\u001b[39m \u001b[38;5;124m\"\u001b[39m\u001b[38;5;124mC:\u001b[39m\u001b[38;5;130;01m\\\\\u001b[39;00m\u001b[38;5;124mUsers\u001b[39m\u001b[38;5;130;01m\\\\\u001b[39;00m\u001b[38;5;124mMizuki\u001b[39m\u001b[38;5;130;01m\\\\\u001b[39;00m\u001b[38;5;124mUniversity\u001b[39m\u001b[38;5;130;01m\\\\\u001b[39;00m\u001b[38;5;124mReserch\u001b[39m\u001b[38;5;130;01m\\\\\u001b[39;00m\u001b[38;5;124mlength_sensor\u001b[39m\u001b[38;5;130;01m\\\\\u001b[39;00m\u001b[38;5;124mJupyterLab\u001b[39m\u001b[38;5;130;01m\\\\\u001b[39;00m\u001b[38;5;124mdata\u001b[39m\u001b[38;5;130;01m\\\\\u001b[39;00m\u001b[38;5;124mlength_pressure\u001b[39m\u001b[38;5;130;01m\\\\\u001b[39;00m\u001b[38;5;124mlength_pressure.csv\u001b[39m\u001b[38;5;124m\"\u001b[39m\n\u001b[0;32m      7\u001b[0m data \u001b[38;5;241m=\u001b[39m pd\u001b[38;5;241m.\u001b[39mread_csv(file_path)\n\u001b[1;32m----> 9\u001b[0m \u001b[43mdf\u001b[49m\n\u001b[0;32m     11\u001b[0m \u001b[38;5;66;03m# Extending the markers and colors if necessary to ensure there are enough for each PAM series\u001b[39;00m\n\u001b[0;32m     12\u001b[0m extended_markers \u001b[38;5;241m=\u001b[39m markers \u001b[38;5;241m*\u001b[39m ((\u001b[38;5;28mlen\u001b[39m(df\u001b[38;5;241m.\u001b[39mcolumns) \u001b[38;5;241m/\u001b[39m\u001b[38;5;241m/\u001b[39m \u001b[38;5;28mlen\u001b[39m(markers)) \u001b[38;5;241m+\u001b[39m \u001b[38;5;241m1\u001b[39m)\n",
      "\u001b[1;31mNameError\u001b[0m: name 'df' is not defined"
     ]
    }
   ],
   "source": [
    "import matplotlib.pyplot as plt\n",
    "import pandas as pd\n",
    "\n",
    "\n",
    "# Load the data from the CSV file\n",
    "file_path = \"C:\\\\Users\\\\Mizuki\\\\University\\\\Reserch\\\\length_sensor\\\\JupyterLab\\\\data\\\\length_pressure\\\\length_pressure.csv\"\n",
    "data = pd.read_csv(file_path)\n",
    "\n",
    "df\n",
    "\n",
    "# Extending the markers and colors if necessary to ensure there are enough for each PAM series\n",
    "extended_markers = markers * ((len(df.columns) // len(markers)) + 1)\n",
    "extended_colors = colors * ((len(df.columns) // len(colors)) + 1)\n",
    "\n",
    "# Re-plotting the graph ensuring to use extended markers and colors\n",
    "fig, ax = plt.subplots()\n",
    "\n",
    "for i, col in enumerate(df.columns):\n",
    "    # Select data for regression based on the specified pressure range\n",
    "    min_pressure, max_pressure = pressure_ranges[col]\n",
    "    df_for_regression = df[(df.index >= min_pressure) & (df.index <= max_pressure)][col].dropna()\n",
    "    x = df_for_regression.index.values\n",
    "    y = df_for_regression.values\n",
    "    \n",
    "    # Perform linear regression if data is available\n",
    "    if len(x) > 0:\n",
    "        model = np.polyfit(x, y, 1)\n",
    "        p = np.poly1d(model)  # Polynomial for the regression line\n",
    "        \n",
    "        # Plot data points\n",
    "        ax.scatter(x, y, label=col, marker=extended_markers[i], color=extended_colors[i])\n",
    "        \n",
    "        # Plot regression line\n",
    "        x_line = np.linspace(min_pressure,max_pressure, 100)\n",
    "        y_line = p(x_line)\n",
    "        ax.plot(x_line, y_line, linestyle='--', color=extended_colors[i])\n",
    "\n",
    "# Graph decoration\n",
    "ax.set_xlabel('Pressure [MPa]')\n",
    "ax.set_ylabel('Natural Length [mm]')\n",
    "ax.set_xticks(np.arange(0.2, 0.9, 0.1))\n",
    "ax.legend()\n",
    "plt.grid(True)\n",
    "\n",
    "save_path = 'C:\\\\Users\\\\Mizuki\\\\University\\\\Reserch\\\\length_sensor\\\\JupyterLab\\\\graph\\\\length_pressure\\\\length_pressure.jpg'  # 保存先のパスを変更\n",
    "plt.savefig(save_path, bbox_inches='tight')  # bbox_inches='tight' で余白を最小限に設定"
   ]
  },
  {
   "cell_type": "code",
   "execution_count": 11,
   "id": "8b50fbb0-ecc0-4be0-a5df-238af373d71b",
   "metadata": {},
   "outputs": [
    {
     "ename": "NameError",
     "evalue": "name 'pressure_ranges' is not defined",
     "output_type": "error",
     "traceback": [
      "\u001b[1;31m---------------------------------------------------------------------------\u001b[0m",
      "\u001b[1;31mNameError\u001b[0m                                 Traceback (most recent call last)",
      "Input \u001b[1;32mIn [11]\u001b[0m, in \u001b[0;36m<cell line: 19>\u001b[1;34m()\u001b[0m\n\u001b[0;32m     17\u001b[0m fig, ax \u001b[38;5;241m=\u001b[39m plt\u001b[38;5;241m.\u001b[39msubplots()\n\u001b[0;32m     19\u001b[0m \u001b[38;5;28;01mfor\u001b[39;00m i, col \u001b[38;5;129;01min\u001b[39;00m \u001b[38;5;28menumerate\u001b[39m(data\u001b[38;5;241m.\u001b[39mcolumns):\n\u001b[0;32m     20\u001b[0m     \u001b[38;5;66;03m# Select data for regression based on the specified pressure range\u001b[39;00m\n\u001b[1;32m---> 21\u001b[0m     min_pressure, max_pressure \u001b[38;5;241m=\u001b[39m \u001b[43mpressure_ranges\u001b[49m[col]\n\u001b[0;32m     22\u001b[0m     df_for_regression \u001b[38;5;241m=\u001b[39m data[(data\u001b[38;5;241m.\u001b[39mindex \u001b[38;5;241m>\u001b[39m\u001b[38;5;241m=\u001b[39m min_pressure) \u001b[38;5;241m&\u001b[39m (data\u001b[38;5;241m.\u001b[39mindex \u001b[38;5;241m<\u001b[39m\u001b[38;5;241m=\u001b[39m max_pressure)][col]\n\u001b[0;32m     23\u001b[0m     x \u001b[38;5;241m=\u001b[39m df_for_regression\u001b[38;5;241m.\u001b[39mindex\u001b[38;5;241m.\u001b[39mvalues\n",
      "\u001b[1;31mNameError\u001b[0m: name 'pressure_ranges' is not defined"
     ]
    },
    {
     "data": {
      "image/png": "[encoded data removed]",
      "text/plain": [
       "<Figure size 432x288 with 1 Axes>"
      ]
     },
     "metadata": {
      "needs_background": "light"
     },
     "output_type": "display_data"
    }
   ],
   "source": [
    "import matplotlib.pyplot as plt\n",
    "import pandas as pd\n",
    "\n",
    "# Load the data from the CSV file\n",
    "file_path = \"C:\\\\Users\\\\Mizuki\\\\University\\\\Reserch\\\\length_sensor\\\\JupyterLab\\\\data\\\\length_pressure\\\\length_pressure.csv\"\n",
    "data = pd.read_csv(file_path)\n",
    "\n",
    "# Define markers and colors\n",
    "markers = ['o', 's', '^', 'D', 'v']  # ここに必要な数のマーカーを追加してください\n",
    "colors = ['red', 'blue', 'green', 'orange', 'purple']  # ここに必要な数の色を追加してください\n",
    "\n",
    "# Extending the markers and colors if necessary to ensure there are enough for each PAM series\n",
    "extended_markers = markers * ((len(data.columns) // len(markers)) + 1)\n",
    "extended_colors = colors * ((len(data.columns) // len(colors)) + 1)\n",
    "\n",
    "# Re-plotting the graph ensuring to use extended markers and colors\n",
    "fig, ax = plt.subplots()\n",
    "\n",
    "for i, col in enumerate(data.columns):\n",
    "    # Select data for regression based on the specified pressure range\n",
    "    min_pressure, max_pressure = pressure_ranges[col]\n",
    "    df_for_regression = data[(data.index >= min_pressure) & (data.index <= max_pressure)][col]\n",
    "    x = df_for_regression.index.values\n",
    "    y = df_for_regression.values\n",
    "    \n",
    "    # Perform linear regression if data is available\n",
    "    if len(x) > 0:\n",
    "        model = np.polyfit(x, y, 1)\n",
    "        p = np.poly1d(model)  # Polynomial for the regression line\n",
    "        \n",
    "        # Plot data points\n",
    "        ax.scatter(x, y, label=col, marker=extended_markers[i], color=extended_colors[i])\n",
    "        \n",
    "        # Plot regression line\n",
    "        x_line = np.linspace(min_pressure, max_pressure, 100)\n",
    "        y_line = p(x_line)\n",
    "        ax.plot(x_line, y_line, linestyle='--', color=extended_colors[i])\n",
    "\n",
    "# Graph decoration\n",
    "ax.set_xlabel('Pressure [MPa]')\n",
    "ax.set_ylabel('Natural Length [mm]')\n",
    "ax.set_xticks(np.arange(0.2, 0.9, 0.1))\n",
    "ax.legend()\n",
    "plt.grid(True)\n",
    "\n",
    "save_path = 'C:\\\\Users\\\\Mizuki\\\\University\\\\Reserch\\\\length_sensor\\\\JupyterLab\\\\graph\\\\length_pressure\\\\length_pressure.jpg'  # 保存先のパスを変更\n",
    "plt.savefig(save_path, bbox_inches='tight')  # bbox_inches='tight' で余白を最小限に設定\n"
   ]
  },
  {
   "cell_type": "code",
   "execution_count": 12,
   "id": "a7fdeb14-e02e-4d32-a5d4-ebabc37142d9",
   "metadata": {},
   "outputs": [
    {
     "ename": "NameError",
     "evalue": "name 'pressure_ranges' is not defined",
     "output_type": "error",
     "traceback": [
      "\u001b[1;31m---------------------------------------------------------------------------\u001b[0m",
      "\u001b[1;31mNameError\u001b[0m                                 Traceback (most recent call last)",
      "Input \u001b[1;32mIn [12]\u001b[0m, in \u001b[0;36m<cell line: 15>\u001b[1;34m()\u001b[0m\n\u001b[0;32m     13\u001b[0m fig, ax \u001b[38;5;241m=\u001b[39m plt\u001b[38;5;241m.\u001b[39msubplots()\n\u001b[0;32m     15\u001b[0m \u001b[38;5;28;01mfor\u001b[39;00m i, col \u001b[38;5;129;01min\u001b[39;00m \u001b[38;5;28menumerate\u001b[39m(data\u001b[38;5;241m.\u001b[39mcolumns[\u001b[38;5;241m1\u001b[39m:]):  \u001b[38;5;66;03m# ヘッダーの最初の列は 'Pressure' なので、それ以外の列から処理を始める\u001b[39;00m\n\u001b[0;32m     16\u001b[0m     \u001b[38;5;66;03m# Select data for regression based on the specified pressure range\u001b[39;00m\n\u001b[1;32m---> 17\u001b[0m     min_pressure, max_pressure \u001b[38;5;241m=\u001b[39m \u001b[43mpressure_ranges\u001b[49m[col]\n\u001b[0;32m     18\u001b[0m     df_for_regression \u001b[38;5;241m=\u001b[39m data[(data[\u001b[38;5;124m'\u001b[39m\u001b[38;5;124mPressure\u001b[39m\u001b[38;5;124m'\u001b[39m] \u001b[38;5;241m>\u001b[39m\u001b[38;5;241m=\u001b[39m min_pressure) \u001b[38;5;241m&\u001b[39m (data[\u001b[38;5;124m'\u001b[39m\u001b[38;5;124mPressure\u001b[39m\u001b[38;5;124m'\u001b[39m] \u001b[38;5;241m<\u001b[39m\u001b[38;5;241m=\u001b[39m max_pressure)][col]\n\u001b[0;32m     19\u001b[0m     x \u001b[38;5;241m=\u001b[39m df_for_regression\u001b[38;5;241m.\u001b[39mindex\u001b[38;5;241m.\u001b[39mvalues\n",
      "\u001b[1;31mNameError\u001b[0m: name 'pressure_ranges' is not defined"
     ]
    },
    {
     "data": {
      "image/png": "[encoded data removed]",
      "text/plain": [
       "<Figure size 432x288 with 1 Axes>"
      ]
     },
     "metadata": {
      "needs_background": "light"
     },
     "output_type": "display_data"
    }
   ],
   "source": [
    "import matplotlib.pyplot as plt\n",
    "import pandas as pd\n",
    "\n",
    "# Load the data from the CSV file\n",
    "file_path = \"C:\\\\Users\\\\Mizuki\\\\University\\\\Reserch\\\\length_sensor\\\\JupyterLab\\\\data\\\\length_pressure\\\\length_pressure.csv\"\n",
    "data = pd.read_csv(file_path)\n",
    "\n",
    "# Extending the markers and colors if necessary to ensure there are enough for each PAM series\n",
    "extended_markers = markers * ((len(data.columns) // len(markers)) + 1)\n",
    "extended_colors = colors * ((len(data.columns) // len(colors)) + 1)\n",
    "\n",
    "# Re-plotting the graph ensuring to use extended markers and colors\n",
    "fig, ax = plt.subplots()\n",
    "\n",
    "for i, col in enumerate(data.columns[1:]):  # ヘッダーの最初の列は 'Pressure' なので、それ以外の列から処理を始める\n",
    "    # Select data for regression based on the specified pressure range\n",
    "    min_pressure, max_pressure = pressure_ranges[col]\n",
    "    df_for_regression = data[(data['Pressure'] >= min_pressure) & (data['Pressure'] <= max_pressure)][col]\n",
    "    x = df_for_regression.index.values\n",
    "    y = df_for_regression.values\n",
    "    \n",
    "    # Perform linear regression if data is available\n",
    "    if len(x) > 0:\n",
    "        model = np.polyfit(x, y, 1)\n",
    "        p = np.poly1d(model)  # Polynomial for the regression line\n",
    "        \n",
    "        # Plot data points\n",
    "        ax.scatter(x, y, label=col, marker=extended_markers[i], color=extended_colors[i])\n",
    "        \n",
    "        # Plot regression line\n",
    "        x_line = np.linspace(min_pressure, max_pressure, 100)\n",
    "        y_line = p(x_line)\n",
    "        ax.plot(x_line, y_line, linestyle='--', color=extended_colors[i])\n",
    "\n",
    "# Graph decoration\n",
    "ax.set_xlabel('Pressure [MPa]')\n",
    "ax.set_ylabel('Natural Length [mm]')\n",
    "ax.set_xticks(np.arange(0.2, 0.9, 0.1))\n",
    "ax.legend()\n",
    "plt.grid(True)\n",
    "\n",
    "save_path = 'C:\\\\Users\\\\Mizuki\\\\University\\\\Reserch\\\\length_sensor\\\\JupyterLab\\\\graph\\\\length_pressure\\\\length_pressure.jpg'  # 保存先のパスを変更\n",
    "plt.savefig(save_path, bbox_inches='tight')  # bbox_inches='tight' で余白を最小限に設定\n"
   ]
  },
  {
   "cell_type": "code",
   "execution_count": 13,
   "id": "cd9af1d7-3978-4dba-b424-1b3d9ea236a2",
   "metadata": {},
   "outputs": [
    {
     "ename": "NameError",
     "evalue": "name 'pressure_ranges' is not defined",
     "output_type": "error",
     "traceback": [
      "\u001b[1;31m---------------------------------------------------------------------------\u001b[0m",
      "\u001b[1;31mNameError\u001b[0m                                 Traceback (most recent call last)",
      "Input \u001b[1;32mIn [13]\u001b[0m, in \u001b[0;36m<cell line: 15>\u001b[1;34m()\u001b[0m\n\u001b[0;32m     13\u001b[0m fig, ax \u001b[38;5;241m=\u001b[39m plt\u001b[38;5;241m.\u001b[39msubplots()\n\u001b[0;32m     15\u001b[0m \u001b[38;5;28;01mfor\u001b[39;00m i, col \u001b[38;5;129;01min\u001b[39;00m \u001b[38;5;28menumerate\u001b[39m(data\u001b[38;5;241m.\u001b[39mcolumns[\u001b[38;5;241m1\u001b[39m:]):  \u001b[38;5;66;03m# ヘッダーの最初の列は 'Pressure' なので、それ以外の列から処理を始める\u001b[39;00m\n\u001b[0;32m     16\u001b[0m     \u001b[38;5;66;03m# Select data for regression based on the specified pressure range\u001b[39;00m\n\u001b[1;32m---> 17\u001b[0m     min_pressure, max_pressure \u001b[38;5;241m=\u001b[39m \u001b[43mpressure_ranges\u001b[49m[col]\n\u001b[0;32m     18\u001b[0m     df_for_regression \u001b[38;5;241m=\u001b[39m data[(data[\u001b[38;5;124m'\u001b[39m\u001b[38;5;124mPressure\u001b[39m\u001b[38;5;124m'\u001b[39m] \u001b[38;5;241m>\u001b[39m\u001b[38;5;241m=\u001b[39m min_pressure) \u001b[38;5;241m&\u001b[39m (data[\u001b[38;5;124m'\u001b[39m\u001b[38;5;124mPressure\u001b[39m\u001b[38;5;124m'\u001b[39m] \u001b[38;5;241m<\u001b[39m\u001b[38;5;241m=\u001b[39m max_pressure)][col]\n\u001b[0;32m     19\u001b[0m     x \u001b[38;5;241m=\u001b[39m df_for_regression\u001b[38;5;241m.\u001b[39mindex\u001b[38;5;241m.\u001b[39mvalues\n",
      "\u001b[1;31mNameError\u001b[0m: name 'pressure_ranges' is not defined"
     ]
    },
    {
     "data": {
      "image/png": "[encoded data removed]",
      "text/plain": [
       "<Figure size 432x288 with 1 Axes>"
      ]
     },
     "metadata": {
      "needs_background": "light"
     },
     "output_type": "display_data"
    }
   ],
   "source": [
    "import matplotlib.pyplot as plt\n",
    "import pandas as pd\n",
    "\n",
    "# Load the data from the CSV file\n",
    "file_path = \"C:\\\\Users\\\\Mizuki\\\\University\\\\Reserch\\\\length_sensor\\\\JupyterLab\\\\data\\\\length_pressure\\\\length_pressure.csv\"\n",
    "data = pd.read_csv(file_path)\n",
    "\n",
    "# Extending the markers and colors if necessary to ensure there are enough for each PAM series\n",
    "extended_markers = markers * ((len(data.columns) // len(markers)) + 1)\n",
    "extended_colors = colors * ((len(data.columns) // len(colors)) + 1)\n",
    "\n",
    "# Re-plotting the graph ensuring to use extended markers and colors\n",
    "fig, ax = plt.subplots()\n",
    "\n",
    "for i, col in enumerate(data.columns[1:]):  # ヘッダーの最初の列は 'Pressure' なので、それ以外の列から処理を始める\n",
    "    # Select data for regression based on the specified pressure range\n",
    "    min_pressure, max_pressure = pressure_ranges[col]\n",
    "    df_for_regression = data[(data['Pressure'] >= min_pressure) & (data['Pressure'] <= max_pressure)][col]\n",
    "    x = df_for_regression.index.values\n",
    "    y = df_for_regression.values\n",
    "    \n",
    "    # Perform linear regression if data is available\n",
    "    if len(x) > 0:\n",
    "        model = np.polyfit(x, y, 1)\n",
    "        p = np.poly1d(model)  # Polynomial for the regression line\n",
    "        \n",
    "        # Plot data points\n",
    "        ax.scatter(x, y, label=col, marker=extended_markers[i], color=extended_colors[i])\n",
    "        \n",
    "        # Plot regression line\n",
    "        x_line = np.linspace(min_pressure, max_pressure, 100)\n",
    "        y_line = p(x_line)\n",
    "        ax.plot(x_line, y_line, linestyle='--', color=extended_colors[i])\n",
    "\n",
    "# Graph decoration\n",
    "ax.set_xlabel('Pressure [MPa]')\n",
    "ax.set_ylabel('Natural Length [mm]')\n",
    "ax.set_xticks(np.arange(0.2, 0.9, 0.1))\n",
    "ax.legend()\n",
    "plt.grid(True)\n",
    "\n",
    "save_path = 'C:\\\\Users\\\\Mizuki\\\\University\\\\Reserch\\\\length_sensor\\\\JupyterLab\\\\graph\\\\length_pressure\\\\length_pressure.jpg'  # 保存先のパスを変更\n",
    "plt.savefig(save_path, bbox_inches='tight')  # bbox_inches='tight' で余白を最小限に設定\n"
   ]
  },
  {
   "cell_type": "code",
   "execution_count": 14,
   "id": "d694a9d8-1bc7-49b0-894d-7cb74c5ded5a",
   "metadata": {},
   "outputs": [
    {
     "ename": "NameError",
     "evalue": "name 'df' is not defined",
     "output_type": "error",
     "traceback": [
      "\u001b[1;31m---------------------------------------------------------------------------\u001b[0m",
      "\u001b[1;31mNameError\u001b[0m                                 Traceback (most recent call last)",
      "Input \u001b[1;32mIn [14]\u001b[0m, in \u001b[0;36m<cell line: 6>\u001b[1;34m()\u001b[0m\n\u001b[0;32m      1\u001b[0m \u001b[38;5;66;03m# Re-evaluating the code to plot the data points and regression lines correctly, including the legend\u001b[39;00m\n\u001b[0;32m      2\u001b[0m \n\u001b[0;32m      3\u001b[0m \u001b[38;5;66;03m# Since the error might be due to incorrect range selection for PAM-D, \u001b[39;00m\n\u001b[0;32m      4\u001b[0m \u001b[38;5;66;03m# let's dynamically determine the available data range for PAM-D and set it correctly.\u001b[39;00m\n\u001b[0;32m      5\u001b[0m \u001b[38;5;66;03m# Find the minimum and maximum pressures with non-NaN values for PAM-D\u001b[39;00m\n\u001b[1;32m----> 6\u001b[0m pam_d_data \u001b[38;5;241m=\u001b[39m \u001b[43mdf\u001b[49m[\u001b[38;5;124m'\u001b[39m\u001b[38;5;124mPAM-D\u001b[39m\u001b[38;5;124m'\u001b[39m]\u001b[38;5;241m.\u001b[39mdropna()\n\u001b[0;32m      7\u001b[0m pam_d_min_pressure \u001b[38;5;241m=\u001b[39m pam_d_data\u001b[38;5;241m.\u001b[39mindex\u001b[38;5;241m.\u001b[39mmin()\n\u001b[0;32m      8\u001b[0m pam_d_max_pressure \u001b[38;5;241m=\u001b[39m pam_d_data\u001b[38;5;241m.\u001b[39mindex\u001b[38;5;241m.\u001b[39mmax()\n",
      "\u001b[1;31mNameError\u001b[0m: name 'df' is not defined"
     ]
    }
   ],
   "source": [
    "# Re-evaluating the code to plot the data points and regression lines correctly, including the legend\n",
    "\n",
    "# Since the error might be due to incorrect range selection for PAM-D, \n",
    "# let's dynamically determine the available data range for PAM-D and set it correctly.\n",
    "# Find the minimum and maximum pressures with non-NaN values for PAM-D\n",
    "pam_d_data = df['PAM-D'].dropna()\n",
    "pam_d_min_pressure = pam_d_data.index.min()\n",
    "pam_d_max_pressure = pam_d_data.index.max()\n",
    "\n",
    "# Update the pressure range dictionary with the correct values for PAM-D\n",
    "pressure_ranges['PAM-D'] = (pam_d_min_pressure, pam_d_max_pressure)\n",
    "\n",
    "# Plotting the graph again with correct pressure ranges and ensuring the legend is displayed\n",
    "fig, ax = plt.subplots()\n",
    "markers = ['o', 's', '^', 'D']  # Markers for each PAM\n",
    "\n",
    "for i, (col, (min_pressure, max_pressure)) in enumerate(pressure_ranges.items()):\n",
    "    # Filter the data for the current PAM within the specified pressure range\n",
    "    df_for_regression = df.loc[min_pressure:max_pressure, col].dropna()\n",
    "    x = df_for_regression.index.values\n",
    "    y = df_for_regression.values\n",
    "    \n",
    "    # Calculate linear regression\n",
    "    model = np.polyfit(x, y, 1)\n",
    "    # Create a linear polynomial object\n",
    "    p = np.poly1d(model)\n",
    "    \n",
    "    # Plot data points\n",
    "    ax.scatter(x, y, label=col, marker=markers[i], color=colors[i])\n",
    "    \n",
    "    # Generate a range of x values for plotting the regression line\n",
    "    x_line = np.linspace(min_pressure, max_pressure, 100)\n",
    "    # Calculate the y values for the regression line\n",
    "    y_line = p(x_line)\n",
    "    \n",
    "    # Plot regression line within specified pressure range\n",
    "    ax.plot(x_line, y_line, linestyle='--', color=colors[i])\n",
    "\n",
    "# Graph decoration\n",
    "ax.set_xlabel('$P$[MPa]')\n",
    "ax.set_ylabel('$L_u$[mm]')\n",
    "ax.set_xticks(np.arange(0.2, 0.9, 0.1))\n",
    "\n",
    "# Add a legend to the plot\n",
    "ax.legend()\n",
    "\n",
    "plt.grid(True)\n",
    "plt.tight_layout()  # Adjust the padding between and around subplots.\n",
    "\n",
    "# Save the corrected graph\n",
    "save_path_corrected = '/mnt/data/corrected_length_pressure.jpg'\n",
    "plt.savefig(save_path_corrected, bbox_inches='tight')  # Save with minimal whitespace\n",
    "\n",
    "# Display the corrected graph\n",
    "plt.show()\n",
    "\n",
    "# Provide the path to the saved image\n",
    "save_path_corrected\n"
   ]
  },
  {
   "cell_type": "code",
   "execution_count": 15,
   "id": "b93b5054-bbe0-4f08-a70d-9bc42ff598d8",
   "metadata": {},
   "outputs": [
    {
     "ename": "NameError",
     "evalue": "name 'df' is not defined",
     "output_type": "error",
     "traceback": [
      "\u001b[1;31m---------------------------------------------------------------------------\u001b[0m",
      "\u001b[1;31mNameError\u001b[0m                                 Traceback (most recent call last)",
      "Input \u001b[1;32mIn [15]\u001b[0m, in \u001b[0;36m<cell line: 2>\u001b[1;34m()\u001b[0m\n\u001b[0;32m      1\u001b[0m \u001b[38;5;66;03m# Extending the markers and colors if necessary to ensure there are enough for each PAM series\u001b[39;00m\n\u001b[1;32m----> 2\u001b[0m extended_markers \u001b[38;5;241m=\u001b[39m markers \u001b[38;5;241m*\u001b[39m ((\u001b[38;5;28mlen\u001b[39m(\u001b[43mdf\u001b[49m\u001b[38;5;241m.\u001b[39mcolumns) \u001b[38;5;241m/\u001b[39m\u001b[38;5;241m/\u001b[39m \u001b[38;5;28mlen\u001b[39m(markers)) \u001b[38;5;241m+\u001b[39m \u001b[38;5;241m1\u001b[39m)\n\u001b[0;32m      3\u001b[0m extended_colors \u001b[38;5;241m=\u001b[39m colors \u001b[38;5;241m*\u001b[39m ((\u001b[38;5;28mlen\u001b[39m(df\u001b[38;5;241m.\u001b[39mcolumns) \u001b[38;5;241m/\u001b[39m\u001b[38;5;241m/\u001b[39m \u001b[38;5;28mlen\u001b[39m(colors)) \u001b[38;5;241m+\u001b[39m \u001b[38;5;241m1\u001b[39m)\n\u001b[0;32m      5\u001b[0m \u001b[38;5;66;03m# Re-plotting the graph ensuring to use extended markers and colors\u001b[39;00m\n",
      "\u001b[1;31mNameError\u001b[0m: name 'df' is not defined"
     ]
    }
   ],
   "source": [
    "# Extending the markers and colors if necessary to ensure there are enough for each PAM series\n",
    "extended_markers = markers * ((len(df.columns) // len(markers)) + 1)\n",
    "extended_colors = colors * ((len(df.columns) // len(colors)) + 1)\n",
    "\n",
    "# Re-plotting the graph ensuring to use extended markers and colors\n",
    "fig, ax = plt.subplots()\n",
    "\n",
    "for i, col in enumerate(df.columns):\n",
    "    # Select data for regression based on the specified pressure range\n",
    "    min_pressure, max_pressure = pressure_ranges[col]\n",
    "    df_for_regression = df[(df.index >= min_pressure) & (df.index <= max_pressure)][col].dropna()\n",
    "    x = df_for_regression.index.values\n",
    "    y = df_for_regression.values\n",
    "    \n",
    "    # Perform linear regression if data is available\n",
    "    if len(x) > 0:\n",
    "        model = np.polyfit(x, y, 1)\n",
    "        p = np.poly1d(model)  # Polynomial for the regression line\n",
    "        \n",
    "        # Plot data points\n",
    "        ax.scatter(x, y, label=col, marker=extended_markers[i], color=extended_colors[i])\n",
    "        \n",
    "        # Plot regression line\n",
    "        x_line = np.linspace(min_pressure, max_pressure, 100)\n",
    "        y_line = p(x_line)\n",
    "        ax.plot(x_line, y_line, linestyle='--', color=extended_colors[i])\n",
    "\n",
    "# Graph decoration\n",
    "ax.set_xlabel('Pressure [MPa]')\n",
    "ax.set_ylabel('Natural Length [mm]')\n",
    "ax.set_xticks(np.arange(0.2, 0.9, 0.1))\n",
    "ax.legend()\n",
    "plt.grid(True)\n",
    "\n",
    "# Save the corrected graph again\n",
    "save_path_corrected ='C:\\\\Users\\\\Mizuki\\\\University\\\\Reserch\\\\length_sensor\\\\JupyterLab\\\\graph\\\\length_pressure\\\\length_pressure.jpg'\n",
    "plt.savefig(save_path_corrected, bbox_inches='tight')\n",
    "\n",
    "# Display the corrected graph\n",
    "plt.show()\n",
    "\n",
    "# Provide the path to the saved image\n",
    "save_path_corrected\n"
   ]
  },
  {
   "cell_type": "code",
   "execution_count": null,
   "id": "98f0b8c6-401e-460a-b36a-a222d89148d0",
   "metadata": {},
   "outputs": [],
   "source": []
  }
 ],
 "metadata": {
  "kernelspec": {
   "display_name": "Python 3 (ipykernel)",
   "language": "python",
   "name": "python3"
  },
  "language_info": {
   "codemirror_mode": {
    "name": "ipython",
    "version": 3
   },
   "file_extension": ".py",
   "mimetype": "text/x-python",
   "name": "python",
   "nbconvert_exporter": "python",
   "pygments_lexer": "ipython3",
   "version": "3.8.13"
  }
 },
 "nbformat": 4,
 "nbformat_minor": 5
}

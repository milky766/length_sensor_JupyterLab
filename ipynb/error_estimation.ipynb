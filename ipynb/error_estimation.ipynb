{
 "cells": [
  {
   "cell_type": "code",
   "execution_count": 2,
   "id": "a8589454-be90-4149-9ed6-42856cc8037a",
   "metadata": {},
   "outputs": [
    {
     "name": "stdin",
     "output_type": "stream",
     "text": [
      "動的テストの日付を入力してください:  20231220\n"
     ]
    }
   ],
   "source": [
    "import pandas as pd\n",
    "\n",
    "data = input(\"動的テストの日付を入力してください: \")"
   ]
  },
  {
   "cell_type": "code",
   "execution_count": 36,
   "id": "f999bd54-f546-4fb3-9f6e-866b2fb9bbaa",
   "metadata": {},
   "outputs": [
    {
     "name": "stdin",
     "output_type": "stream",
     "text": [
      "動的テストの回数を入力してください:  2\n"
     ]
    }
   ],
   "source": [
    "count1 = input(\"動的テストの回数を入力してください: \")"
   ]
  },
  {
   "cell_type": "code",
   "execution_count": 4,
   "id": "12fbb3fc-edf4-4b46-8872-53f071f8fea0",
   "metadata": {},
   "outputs": [
    {
     "name": "stdin",
     "output_type": "stream",
     "text": [
      "マッキベンの種類を入力してください:  s\n"
     ]
    }
   ],
   "source": [
    "kind = input(\"マッキベンの種類を入力してください: \")"
   ]
  },
  {
   "cell_type": "code",
   "execution_count": 37,
   "id": "e3cb77a0-f247-41a0-b2fa-97aedb26ca9c",
   "metadata": {},
   "outputs": [
    {
     "name": "stdin",
     "output_type": "stream",
     "text": [
      "静的テストの回数を入力してください:  2\n"
     ]
    },
    {
     "name": "stdout",
     "output_type": "stream",
     "text": [
      "0     -1.995460\n",
      "1     -2.000275\n",
      "2     -1.948111\n",
      "3     -1.935699\n",
      "4     -1.868366\n",
      "         ...   \n",
      "215         NaN\n",
      "216         NaN\n",
      "217         NaN\n",
      "218         NaN\n",
      "219         NaN\n",
      "Name: Error_Percentage_Contraction, Length: 220, dtype: float64\n",
      "0           NaN\n",
      "1           NaN\n",
      "2           NaN\n",
      "3           NaN\n",
      "4           NaN\n",
      "         ...   \n",
      "215   -1.377230\n",
      "216   -1.450613\n",
      "217   -1.486237\n",
      "218   -1.476063\n",
      "219   -1.586164\n",
      "Name: Error_Percentage_Extension, Length: 220, dtype: float64\n"
     ]
    }
   ],
   "source": [
    "count2 = input(\"静的テストの回数を入力してください: \")\n",
    "\n",
    "# CSVファイルを読み込む（ファイルパスは適切に変更してください）\n",
    "df = pd.read_csv(f'C:\\\\Users\\\\Mizuki\\\\University\\\\Reserch\\\\length_sensor\\\\JupyterLab\\\\data\\\\estimated_L_for_dynamic_experiment\\\\{data}_{count1}_{kind}_by_{count2}_L_estimation_ec.csv')\n",
    "\n",
    "# 誤差を計算して新しい列 'Error_Percentage' を追加する\n",
    "df['Error_Percentage_Contraction'] = ((df['Real_Estimated_Length_Contraction'] - df['real_length_contraction']) / df['real_length_contraction']) * 100\n",
    "df['Error_Percentage_Extension'] = ((df['Real_Estimated_Length_Extension'] - df['real_length_extension']) / df['real_length_extension']) * 100\n",
    "\n",
    "df.to_csv(f'C:\\\\Users\\\\Mizuki\\\\University\\\\Reserch\\\\length_sensor\\\\JupyterLab\\\\data\\\\estimated_L_for_dynamic_experiment\\\\{data}_{count1}_{kind}_by_{count2}_L_estimation_ec.csv', index=False)\n",
    "\n",
    "print(df['Error_Percentage_Contraction'])\n",
    "print(df['Error_Percentage_Extension'])"
   ]
  },
  {
   "cell_type": "code",
   "execution_count": null,
   "id": "a749ec97-8dab-4ff3-8cde-bfa24b67089c",
   "metadata": {},
   "outputs": [],
   "source": []
  }
 ],
 "metadata": {
  "kernelspec": {
   "display_name": "Python 3 (ipykernel)",
   "language": "python",
   "name": "python3"
  },
  "language_info": {
   "codemirror_mode": {
    "name": "ipython",
    "version": 3
   },
   "file_extension": ".py",
   "mimetype": "text/x-python",
   "name": "python",
   "nbconvert_exporter": "python",
   "pygments_lexer": "ipython3",
   "version": "3.8.13"
  }
 },
 "nbformat": 4,
 "nbformat_minor": 5
}

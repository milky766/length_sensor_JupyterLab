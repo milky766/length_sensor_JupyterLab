{
 "cells": [
  {
   "cell_type": "code",
   "execution_count": 2,
   "id": "2407022e-3e0c-4563-968b-ff1d11d2efd7",
   "metadata": {},
   "outputs": [
    {
     "name": "stdin",
     "output_type": "stream",
     "text": [
      "Enter file count:  1\n"
     ]
    },
    {
     "ename": "UnboundLocalError",
     "evalue": "local variable 'ser' referenced before assignment",
     "output_type": "error",
     "traceback": [
      "\u001b[1;31m---------------------------------------------------------------------------\u001b[0m",
      "\u001b[1;31mSerialException\u001b[0m                           Traceback (most recent call last)",
      "Input \u001b[1;32mIn [2]\u001b[0m, in \u001b[0;36mread_sensor_and_save_data\u001b[1;34m(file_count)\u001b[0m\n\u001b[0;32m     13\u001b[0m \u001b[38;5;28;01mtry\u001b[39;00m:\n\u001b[1;32m---> 14\u001b[0m     ser \u001b[38;5;241m=\u001b[39m \u001b[43mserial\u001b[49m\u001b[38;5;241;43m.\u001b[39;49m\u001b[43mSerial\u001b[49m\u001b[43m(\u001b[49m\u001b[38;5;124;43m'\u001b[39;49m\u001b[38;5;124;43mCOM11\u001b[39;49m\u001b[38;5;124;43m'\u001b[39;49m\u001b[43m,\u001b[49m\u001b[43m \u001b[49m\u001b[38;5;241;43m115200\u001b[39;49m\u001b[43m,\u001b[49m\u001b[43m \u001b[49m\u001b[43mtimeout\u001b[49m\u001b[38;5;241;43m=\u001b[39;49m\u001b[38;5;241;43m1\u001b[39;49m\u001b[43m)\u001b[49m\n\u001b[0;32m     16\u001b[0m     \u001b[38;5;66;03m# 最初のセンサー値取得時の時間を記録\u001b[39;00m\n",
      "File \u001b[1;32m~\\AppData\\Roaming\\jupyterlab-desktop\\jlab_server\\lib\\site-packages\\serial\\serialwin32.py:33\u001b[0m, in \u001b[0;36mSerial.__init__\u001b[1;34m(self, *args, **kwargs)\u001b[0m\n\u001b[0;32m     32\u001b[0m \u001b[38;5;28mself\u001b[39m\u001b[38;5;241m.\u001b[39m_overlapped_write \u001b[38;5;241m=\u001b[39m \u001b[38;5;28;01mNone\u001b[39;00m\n\u001b[1;32m---> 33\u001b[0m \u001b[38;5;28;43msuper\u001b[39;49m\u001b[43m(\u001b[49m\u001b[43mSerial\u001b[49m\u001b[43m,\u001b[49m\u001b[43m \u001b[49m\u001b[38;5;28;43mself\u001b[39;49m\u001b[43m)\u001b[49m\u001b[38;5;241;43m.\u001b[39;49m\u001b[38;5;21;43m__init__\u001b[39;49m\u001b[43m(\u001b[49m\u001b[38;5;241;43m*\u001b[39;49m\u001b[43margs\u001b[49m\u001b[43m,\u001b[49m\u001b[43m \u001b[49m\u001b[38;5;241;43m*\u001b[39;49m\u001b[38;5;241;43m*\u001b[39;49m\u001b[43mkwargs\u001b[49m\u001b[43m)\u001b[49m\n",
      "File \u001b[1;32m~\\AppData\\Roaming\\jupyterlab-desktop\\jlab_server\\lib\\site-packages\\serial\\serialutil.py:244\u001b[0m, in \u001b[0;36mSerialBase.__init__\u001b[1;34m(self, port, baudrate, bytesize, parity, stopbits, timeout, xonxoff, rtscts, write_timeout, dsrdtr, inter_byte_timeout, exclusive, **kwargs)\u001b[0m\n\u001b[0;32m    243\u001b[0m \u001b[38;5;28;01mif\u001b[39;00m port \u001b[38;5;129;01mis\u001b[39;00m \u001b[38;5;129;01mnot\u001b[39;00m \u001b[38;5;28;01mNone\u001b[39;00m:\n\u001b[1;32m--> 244\u001b[0m     \u001b[38;5;28;43mself\u001b[39;49m\u001b[38;5;241;43m.\u001b[39;49m\u001b[43mopen\u001b[49m\u001b[43m(\u001b[49m\u001b[43m)\u001b[49m\n",
      "File \u001b[1;32m~\\AppData\\Roaming\\jupyterlab-desktop\\jlab_server\\lib\\site-packages\\serial\\serialwin32.py:64\u001b[0m, in \u001b[0;36mSerial.open\u001b[1;34m(self)\u001b[0m\n\u001b[0;32m     63\u001b[0m     \u001b[38;5;28mself\u001b[39m\u001b[38;5;241m.\u001b[39m_port_handle \u001b[38;5;241m=\u001b[39m \u001b[38;5;28;01mNone\u001b[39;00m    \u001b[38;5;66;03m# 'cause __del__ is called anyway\u001b[39;00m\n\u001b[1;32m---> 64\u001b[0m     \u001b[38;5;28;01mraise\u001b[39;00m SerialException(\u001b[38;5;124m\"\u001b[39m\u001b[38;5;124mcould not open port \u001b[39m\u001b[38;5;132;01m{!r}\u001b[39;00m\u001b[38;5;124m: \u001b[39m\u001b[38;5;132;01m{!r}\u001b[39;00m\u001b[38;5;124m\"\u001b[39m\u001b[38;5;241m.\u001b[39mformat(\u001b[38;5;28mself\u001b[39m\u001b[38;5;241m.\u001b[39mportstr, ctypes\u001b[38;5;241m.\u001b[39mWinError()))\n\u001b[0;32m     66\u001b[0m \u001b[38;5;28;01mtry\u001b[39;00m:\n",
      "\u001b[1;31mSerialException\u001b[0m: could not open port 'COM11': FileNotFoundError(2, '指定されたファイルが見つかりません。', None, 2)",
      "\nDuring handling of the above exception, another exception occurred:\n",
      "\u001b[1;31mUnboundLocalError\u001b[0m                         Traceback (most recent call last)",
      "Input \u001b[1;32mIn [2]\u001b[0m, in \u001b[0;36m<cell line: 48>\u001b[1;34m()\u001b[0m\n\u001b[0;32m     45\u001b[0m         ser\u001b[38;5;241m.\u001b[39mclose()\n\u001b[0;32m     47\u001b[0m file_count \u001b[38;5;241m=\u001b[39m \u001b[38;5;28minput\u001b[39m(\u001b[38;5;124m\"\u001b[39m\u001b[38;5;124mEnter file count: \u001b[39m\u001b[38;5;124m\"\u001b[39m)\n\u001b[1;32m---> 48\u001b[0m \u001b[43mread_sensor_and_save_data\u001b[49m\u001b[43m(\u001b[49m\u001b[43mfile_count\u001b[49m\u001b[43m)\u001b[49m\n",
      "Input \u001b[1;32mIn [2]\u001b[0m, in \u001b[0;36mread_sensor_and_save_data\u001b[1;34m(file_count)\u001b[0m\n\u001b[0;32m     42\u001b[0m                 \u001b[38;5;28;01mbreak\u001b[39;00m\n\u001b[0;32m     44\u001b[0m \u001b[38;5;28;01mfinally\u001b[39;00m:\n\u001b[1;32m---> 45\u001b[0m     \u001b[43mser\u001b[49m\u001b[38;5;241m.\u001b[39mclose()\n",
      "\u001b[1;31mUnboundLocalError\u001b[0m: local variable 'ser' referenced before assignment"
     ]
    }
   ],
   "source": [
    "import serial\n",
    "import csv\n",
    "import time\n",
    "import pandas as pd\n",
    "from datetime import datetime\n",
    "\n",
    "def read_sensor_and_save_data(file_count):\n",
    "    #file_format = \"C:\\\\Users\\\\Mizuki\\\\JupyterLab\\\\length_sensor\\\\data\\\\real\\\\real_{date}_{count}.csv\"\n",
    "    file_format = \"C:\\\\Users\\\\Mizuki\\\\OneDrive - Kyoto University\\\\大学\\\\研究\\\\length_sensor\\\\JupyterLab\\\\data\\\\real\\\\real_{date}_{count}.csv\"\n",
    "    current_date = datetime.now().strftime(\"%Y%m%d\")\n",
    "    csv_filename = file_format.format(date=current_date, count=file_count)\n",
    "    \n",
    "    try:\n",
    "        ser = serial.Serial('COM11', 115200, timeout=1)\n",
    "        \n",
    "        # 最初のセンサー値取得時の時間を記録\n",
    "        start_time = time.time()\n",
    "\n",
    "        with open(csv_filename, mode=\"w\", newline=\"\") as file:\n",
    "            writer = csv.writer(file)\n",
    "            writer.writerow([\"Time\", \"Pressure_in\", \"Pressure_out\", \"Flow\", \"Voltage\"])\n",
    "\n",
    "            while True: # 無限ループ\n",
    "                try:\n",
    "                    data = ser.readline().decode().strip()\n",
    "                    current_time = time.time()\n",
    "                    elapsed_time = int((current_time - start_time) * 1000)  # 経過時間をミリ秒に変換\n",
    "                    print(f\"{elapsed_time} - {data}\")\n",
    "\n",
    "                    if data and not data.startswith(\"Sensor reading stopped\"):\n",
    "                        parts = data.split(',')\n",
    "                        if len(parts) == 5:\n",
    "                            sensor_time, pressure_in, pressure_out, flow, voltage = parts\n",
    "                            writer.writerow([elapsed_time, pressure_in, pressure_out, flow, voltage])\n",
    "                        else:\n",
    "                            print(\"Invalid data format:\", data)\n",
    "                    elif data.startswith(\"Sensor reading stopped\"):\n",
    "                        print(\"Sensor reading stopped. Exiting loop.\")\n",
    "                        break\n",
    "                except KeyboardInterrupt:\n",
    "                    print(\"Interrupt received. Saving CSV file and exiting.\")\n",
    "                    break\n",
    "\n",
    "    finally:\n",
    "        ser.close()\n",
    "\n",
    "file_count = input(\"Enter file count: \")\n",
    "read_sensor_and_save_data(file_count)\n"
   ]
  },
  {
   "cell_type": "code",
   "execution_count": null,
   "id": "a189efa0-0e71-4f5f-9859-154c8cd0169e",
   "metadata": {},
   "outputs": [],
   "source": []
  }
 ],
 "metadata": {
  "kernelspec": {
   "display_name": "Python 3 (ipykernel)",
   "language": "python",
   "name": "python3"
  },
  "language_info": {
   "codemirror_mode": {
    "name": "ipython",
    "version": 3
   },
   "file_extension": ".py",
   "mimetype": "text/x-python",
   "name": "python",
   "nbconvert_exporter": "python",
   "pygments_lexer": "ipython3",
   "version": "3.8.13"
  }
 },
 "nbformat": 4,
 "nbformat_minor": 5
}

{
 "cells": [
  {
   "cell_type": "code",
   "execution_count": 1,
   "id": "df818020-bec7-440b-85a7-e0c11334814a",
   "metadata": {},
   "outputs": [
    {
     "name": "stdin",
     "output_type": "stream",
     "text": [
      "回数を入力してください:  1\n",
      "種類を入力してください:  6\n",
      "圧力を入力してください:  3\n"
     ]
    }
   ],
   "source": [
    "count = input(\"回数を入力してください: \")\n",
    "type_val = input(\"種類を入力してください: \")\n",
    "pressure_val = input(\"圧力を入力してください: \")\n",
    "\n",
    "pressure_val = f\"0.{pressure_val}\"  "
   ]
  },
  {
   "cell_type": "code",
   "execution_count": 5,
   "id": "6fefb209-435c-4bb7-bb28-c0398ec09a5a",
   "metadata": {},
   "outputs": [
    {
     "name": "stdout",
     "output_type": "stream",
     "text": [
      "start!\n",
      "saved as 20231203_1_6_0.3_p.csv!\n"
     ]
    },
    {
     "data": {
      "image/png": "[encoded data removed]",
      "text/plain": [
       "<Figure size 432x288 with 1 Axes>"
      ]
     },
     "metadata": {
      "needs_background": "light"
     },
     "output_type": "display_data"
    }
   ],
   "source": [
    "import matplotlib.pyplot as plt\n",
    "import datetime\n",
    "import time\n",
    "import serial\n",
    "\n",
    "com = serial.Serial(\"COM8\", 115200)\n",
    "\n",
    "start_time = 10\n",
    "end_time = 14.4\n",
    "\n",
    "path = 'C:\\\\Users\\\\Mizuki\\\\University\\\\Reserch\\\\length_sensor\\\\JupyterLab\\\\data\\\\pressure_control\\\\input\\\\'\n",
    "\n",
    "file_name_all = f\"{datetime.datetime.now().strftime('%Y%m%d')}_{count}_{type_val}_{pressure_val}_all_p\"\n",
    "file_name_partial = f\"{datetime.datetime.now().strftime('%Y%m%d')}_{count}_{type_val}_{pressure_val}_partial_p\"\n",
    "date = datetime.datetime.now().strftime(\"%Y-%m-%d %H:%M:%S\")\n",
    "\n",
    "print('start!')\n",
    "\n",
    "t0 = time.time()\n",
    "\n",
    "# データを保存するリスト\n",
    "all_time_vals = []\n",
    "all_p_vals = []\n",
    "partial_time_vals = []\n",
    "partial_p_vals = []\n",
    "partial_start_time = None  # ユーザー指定時間の初めてのデータを格納した時間\n",
    "\n",
    "with open(path + file_name_all + \".csv\", \"a\", encoding='cp1252') as all_f:\n",
    "    print(\"time,p,voltage\", file=all_f)\n",
    "    \n",
    "    with open(path + file_name_partial + \".csv\", \"a\", encoding='cp1252') as partial_f:\n",
    "        print(\"time,p,voltage\", file=partial_f)\n",
    "\n",
    "        while True:\n",
    "            t = time.time()\n",
    "            t_inner = t - t0\n",
    "            if t_inner > 15:\n",
    "                print(\"saved as \" + file_name_all + \".csv\" + \"!\")\n",
    "                break\n",
    "\n",
    "            val = str(com.readline().decode('cp1252').rstrip(\"\\r\\n\"))\n",
    "            parts = val.split(',')\n",
    "            time_val = float(parts[0])\n",
    "            p_val = float(parts[1]) / 10.0  # bar から MPa への変換\n",
    "\n",
    "            # すべてのデータをリストに追加\n",
    "            all_time_vals.append(time_val)\n",
    "            all_p_vals.append(p_val)\n",
    "\n",
    "            # 15秒間のデータをファイルに書き込む\n",
    "            print(\"{},{},{}\".format(time_val, p_val, parts[2]), file=all_f)\n",
    "\n",
    "            # ユーザー指定の時間範囲内のデータを処理\n",
    "            if t_inner >= start_time and t_inner <= end_time:\n",
    "                # 部分的なデータをリストに追加\n",
    "                if partial_start_time is None:\n",
    "                    partial_start_time = time_val\n",
    "                partial_time_vals.append(time_val - partial_start_time)  # 開始時間から引くことで0からの相対時間に\n",
    "                partial_p_vals.append(p_val)\n",
    "\n",
    "                # ファイルに部分的なデータを書き込む\n",
    "                print(\"{},{},{}\".format(time_val, p_val, parts[2]), file=partial_f)\n",
    "\n",
    "# 15秒間のデータのグラフの描画\n",
    "plt.figure(figsize=(10, 5))\n",
    "plt.subplot(1, 2, 1)\n",
    "plt.plot(all_time_vals, all_p_vals)\n",
    "plt.xlabel('Time(s)')\n",
    "plt.ylabel('Pressure(MPa)')\n",
    "\n",
    "# ユーザー指定の時間範囲内のデータのグラフの描画\n",
    "plt.subplot(1, 2, 2)\n",
    "plt.plot(partial_time_vals, partial_p_vals)\n",
    "plt.xlabel('Time(s)')\n",
    "plt.ylabel('Pressure(MPa)')\n",
    "\n",
    "# グラフを保存\n",
    "save_path = 'C:\\\\Users\\\\Mizuki\\\\University\\\\Reserch\\\\length_sensor\\\\JupyterLab\\\\graph\\\\pressure_control\\\\input\\\\'\n",
    "plt.savefig(save_path + file_name_all + '_input.jpg')\n",
    "plt.savefig(save_path + file_name_partial + '_input.jpg')\n",
    "\n",
    "# グラフを表示\n",
    "plt.show()\n",
    "\n",
    "com.close()\n"
   ]
  },
  {
   "cell_type": "code",
   "execution_count": null,
   "id": "8c7e065f-09a7-4af6-98d8-7db80dd2241f",
   "metadata": {},
   "outputs": [],
   "source": []
  },
  {
   "cell_type": "code",
   "execution_count": null,
   "id": "aca46a21-2663-45ef-b849-c8e45e7a8967",
   "metadata": {},
   "outputs": [],
   "source": []
  }
 ],
 "metadata": {
  "kernelspec": {
   "display_name": "Python 3 (ipykernel)",
   "language": "python",
   "name": "python3"
  },
  "language_info": {
   "codemirror_mode": {
    "name": "ipython",
    "version": 3
   },
   "file_extension": ".py",
   "mimetype": "text/x-python",
   "name": "python",
   "nbconvert_exporter": "python",
   "pygments_lexer": "ipython3",
   "version": "3.8.13"
  }
 },
 "nbformat": 4,
 "nbformat_minor": 5
}

{
 "cells": [
  {
   "cell_type": "code",
   "execution_count": 4,
   "id": "6864b073-d819-4a42-8dd1-1d9f3043f9d4",
   "metadata": {},
   "outputs": [
    {
     "name": "stdin",
     "output_type": "stream",
     "text": [
      "データの日付を入力してください(例:20231118):  20240805\n",
      "測定するマッキベンの種類を入力してください(4s or 4l or 6 or s or u):  ago\n"
     ]
    }
   ],
   "source": [
    "import pandas as pd\n",
    "\n",
    "date = input(\"データの日付を入力してください(例:20231118): \")\n",
    "measurement_kind = input(\"測定するマッキベンの種類を入力してください(4s or 4l or 6 or s or u): \")"
   ]
  },
  {
   "cell_type": "code",
   "execution_count": 20,
   "id": "cdc01855-ceab-49f7-9a1e-9b9be0897173",
   "metadata": {},
   "outputs": [
    {
     "name": "stdin",
     "output_type": "stream",
     "text": [
      "圧力を入力してください(例}:4):  2\n"
     ]
    }
   ],
   "source": [
    "pressure = input(\"圧力を入力してください(例}:4): \")"
   ]
  },
  {
   "cell_type": "code",
   "execution_count": 21,
   "id": "10282c27-e867-4ed6-8738-63d7037db9e4",
   "metadata": {},
   "outputs": [
    {
     "name": "stdin",
     "output_type": "stream",
     "text": [
      "測定回数を入力してください(例:1):  1\n"
     ]
    },
    {
     "name": "stdout",
     "output_type": "stream",
     "text": [
      "      Time Length Pressure Force\n",
      "0        3    0.0    0.201   0.0\n",
      "10    6756    1.0      0.2   0.7\n",
      "18    6918    2.0      0.2   1.9\n",
      "28    7174    3.0      0.2   3.6\n",
      "38    7478    4.0    0.201   5.8\n",
      "47    7751    5.0    0.202   8.7\n",
      "57    8055    6.0    0.203  12.4\n",
      "67    8334    7.0    0.206  17.1\n",
      "77    8633    8.0    0.207  22.9\n",
      "87    8895    9.0    0.211  29.1\n",
      "94    9252   10.0    0.213  36.4\n",
      "104   9620   11.0    0.217  45.8\n",
      "170  12731   12.0    0.214  49.6\n",
      "171  12762   11.9    0.214  47.6\n",
      "180  13117   10.9    0.212  36.1\n",
      "190  13397    9.9    0.207  26.5\n",
      "200  13884    8.9    0.205  18.8\n",
      "210  14245    7.9    0.201  13.2\n",
      "218  14481    6.9    0.198   9.0\n",
      "228  14743    5.9    0.198   5.7\n",
      "238  15196    4.9    0.197   3.6\n"
     ]
    }
   ],
   "source": [
    "file_count = input(\"測定回数を入力してください(例:1): \")\n",
    "pressure_with_decimal = f\"0.{pressure}\"\n",
    "\n",
    "# CSVデータの読み込み\n",
    "df = pd.read_csv(\n",
    "    f\"C:\\\\Users\\\\Mizuki\\\\University\\\\Reserch\\\\length_sensor\\\\JupyterLab\\\\data\\\\reflex_processed\\\\reflex_processed_{date}_{file_count}_{measurement_kind}_{pressure_with_decimal}_r.csv\"\n",
    "    #f\"C:\\\\Users\\\\Mizuki\\\\OneDrive - Kyoto University\\\\University\\\\Reserch\\\\length_sensor\\\\JupyterLab\\\\data\\\\real\\\\real_{date}_{file_count}_{measurement_kind}_{pressure_with_decimal}_s.csv\"\n",
    ")\n",
    "\n",
    "def process_data(df):\n",
    "    result_df = pd.DataFrame(columns=df.columns)\n",
    "\n",
    "    last_length = None\n",
    "    increasing = True\n",
    "\n",
    "    for index, row in df.iterrows():\n",
    "        if increasing:\n",
    "            if last_length is None or row['Length'] >= last_length + 1:\n",
    "                result_df = pd.concat([result_df, df.loc[[index]]])\n",
    "                last_length = row['Length']\n",
    "            elif row['Length'] < last_length:\n",
    "                increasing = False\n",
    "                last_length = row['Length']\n",
    "                result_df = pd.concat([result_df, df.loc[[index]]])\n",
    "        else:\n",
    "            if row['Length'] <= last_length - 1:\n",
    "                result_df = pd.concat([result_df, df.loc[[index]]])\n",
    "                last_length = row['Length']\n",
    "\n",
    "    return result_df\n",
    "\n",
    "# 処理後のデータフレームを取得\n",
    "processed_df = process_data(df)\n",
    "\n",
    "# 重複行を削除\n",
    "processed_df = processed_df.drop_duplicates()\n",
    "\n",
    "# 結果の表示\n",
    "print(processed_df)\n",
    "\n",
    "# CSVファイルに保存\n",
    "processed_df.to_csv(\n",
    "    f\"C:\\\\Users\\\\Mizuki\\\\University\\\\Reserch\\\\length_sensor\\\\JupyterLab\\\\data\\\\reflex_static_extracted\\\\{date}_{file_count}_{measurement_kind}_{pressure_with_decimal}_se.csv\",\n",
    "    #f\"C:\\\\Users\\\\Mizuki\\\\OneDrive - Kyoto University\\\\University\\\\Reserch\\\\length_sensor\\\\JupyterLab\\\\data\\\\real_static_extracted\\\\{date}_{file_count}_{measurement_kind}_{pressure_with_decimal}_se.csv\",\n",
    "    index=False,\n",
    ")\n"
   ]
  },
  {
   "cell_type": "markdown",
   "id": "5833f096-f17d-4a37-b857-7a5c37cba58f",
   "metadata": {},
   "source": [
    "## "
   ]
  }
 ],
 "metadata": {
  "kernelspec": {
   "display_name": "Python 3 (ipykernel)",
   "language": "python",
   "name": "python3"
  },
  "language_info": {
   "codemirror_mode": {
    "name": "ipython",
    "version": 3
   },
   "file_extension": ".py",
   "mimetype": "text/x-python",
   "name": "python",
   "nbconvert_exporter": "python",
   "pygments_lexer": "ipython3",
   "version": "3.8.13"
  }
 },
 "nbformat": 4,
 "nbformat_minor": 5
}

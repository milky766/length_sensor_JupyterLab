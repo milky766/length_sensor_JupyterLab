{
 "cells": [
  {
   "cell_type": "code",
   "execution_count": 2,
   "id": "6864b073-d819-4a42-8dd1-1d9f3043f9d4",
   "metadata": {},
   "outputs": [
    {
     "name": "stdin",
     "output_type": "stream",
     "text": [
      "データの日付を入力してください(例:20231118):  20231220\n",
      "測定するマッキベンの種類を入力してください(4s or 4l or 6 or s or u):  s\n"
     ]
    }
   ],
   "source": [
    "import pandas as pd\n",
    "\n",
    "date = input(\"データの日付を入力してください(例:20231118): \")\n",
    "measurement_kind = input(\"測定するマッキベンの種類を入力してください(4s or 4l or 6 or s or u): \")"
   ]
  },
  {
   "cell_type": "code",
   "execution_count": 33,
   "id": "cdc01855-ceab-49f7-9a1e-9b9be0897173",
   "metadata": {},
   "outputs": [
    {
     "name": "stdin",
     "output_type": "stream",
     "text": [
      "圧力を入力してください(例}:4):  6\n"
     ]
    }
   ],
   "source": [
    "pressure = input(\"圧力を入力してください(例}:4): \")"
   ]
  },
  {
   "cell_type": "code",
   "execution_count": 38,
   "id": "10282c27-e867-4ed6-8738-63d7037db9e4",
   "metadata": {},
   "outputs": [
    {
     "name": "stdin",
     "output_type": "stream",
     "text": [
      "測定回数を入力してください(例:1):  5\n"
     ]
    },
    {
     "name": "stdout",
     "output_type": "stream",
     "text": [
      "       Time Length Pressure  Force\n",
      "65     1099    0.0    0.598    0.0\n",
      "148    2754    2.5    0.599    9.6\n",
      "256    4907    4.9    0.599   21.5\n",
      "360    6984    7.3    0.599   35.7\n",
      "468    9138    9.7    0.599   51.7\n",
      "567   11119   12.2    0.599   69.0\n",
      "674   13254   14.7    0.599   87.7\n",
      "786   15492   17.5      0.6  108.3\n",
      "886   17482   19.6    0.599  124.4\n",
      "973   19218   22.3    0.602  146.3\n",
      "1078  21318   24.7    0.603  165.7\n",
      "1178  23315   27.1    0.604  186.0\n",
      "1289  25526   29.5    0.607  206.8\n",
      "1388  27502   31.9    0.609  228.9\n",
      "1490  29544   34.3    0.613  251.4\n",
      "1598  31699   36.5    0.615  271.6\n",
      "1763  34993   39.2    0.618  296.5\n",
      "1852  36769   36.6    0.603  262.4\n",
      "1960  38917   34.5    0.599  241.4\n",
      "2060  40918   31.6    0.599  216.0\n",
      "2173  43175   29.2    0.599  194.9\n",
      "2269  45092   26.5    0.599  171.8\n",
      "2365  47009   24.3    0.599  152.7\n",
      "2458  48856   21.5    0.599  129.8\n",
      "2548  50659   19.6    0.599  114.7\n",
      "2638  52447   17.0    0.598   94.6\n",
      "2747  54620   14.4    0.599   75.2\n",
      "2841  56511   12.1    0.599   58.5\n",
      "2935  58388    9.4    0.599   39.2\n",
      "3022  60120    7.2    0.599   24.9\n",
      "3125  62179    4.6    0.599   10.3\n",
      "3262  64912    2.8    0.598    3.8\n",
      "3553  70723    0.7    0.598    0.1\n"
     ]
    }
   ],
   "source": [
    "file_count = input(\"測定回数を入力してください(例:1): \")\n",
    "pressure_with_decimal = f\"0.{pressure}\"\n",
    "\n",
    "# CSVデータの読み込み\n",
    "df = pd.read_csv(\n",
    "    f\"C:\\\\Users\\\\Mizuki\\\\University\\\\Reserch\\\\length_sensor\\\\JupyterLab\\\\data\\\\real\\\\real_{date}_{file_count}_{measurement_kind}_{pressure_with_decimal}_s.csv\"\n",
    "    #f\"C:\\\\Users\\\\Mizuki\\\\OneDrive - Kyoto University\\\\University\\\\Reserch\\\\length_sensor\\\\JupyterLab\\\\data\\\\real\\\\real_{date}_{file_count}_{measurement_kind}_{pressure_with_decimal}_s.csv\"\n",
    ")\n",
    "\n",
    "\n",
    "def process_data(df):\n",
    "    result_df = pd.DataFrame(columns=df.columns)\n",
    "\n",
    "    current_value = None\n",
    "    consecutive_count = 0\n",
    "\n",
    "    for index, row in df.iterrows():\n",
    "        if row['Length'] == current_value:\n",
    "            consecutive_count += 1\n",
    "        else:\n",
    "            if consecutive_count >= 41:\n",
    "                middle_index = index - 40\n",
    "                result_df = pd.concat([result_df, df.loc[[middle_index]]])\n",
    "            elif consecutive_count == 40:\n",
    "                middle_index = index - 19\n",
    "                result_df = pd.concat([result_df, df.loc[[middle_index]]])\n",
    "            consecutive_count = 1\n",
    "            current_value = row['Length']\n",
    "\n",
    "    # 最後に残りの行を追加\n",
    "    if consecutive_count >= 41:\n",
    "        middle_index = index - 40\n",
    "        result_df = pd.concat([result_df, df.loc[[middle_index]]])\n",
    "    elif consecutive_count == 40:\n",
    "        middle_index = index - 19\n",
    "        result_df = pd.concat([result_df, df.loc[[middle_index]]])\n",
    "\n",
    "    return result_df\n",
    "\n",
    "# 処理後のデータフレームを取得\n",
    "processed_df = process_data(df)\n",
    "\n",
    "# 重複行を削除\n",
    "processed_df = processed_df.drop_duplicates()\n",
    "\n",
    "# 結果の表示\n",
    "print(processed_df)\n",
    "\n",
    "# CSVファイルに保存\n",
    "processed_df.to_csv(\n",
    "    f\"C:\\\\Users\\\\Mizuki\\\\University\\\\Reserch\\\\length_sensor\\\\JupyterLab\\\\data\\\\real_static_extracted\\\\{date}_{file_count}_{measurement_kind}_{pressure_with_decimal}_se.csv\",\n",
    "    #f\"C:\\\\Users\\\\Mizuki\\\\OneDrive - Kyoto University\\\\University\\\\Reserch\\\\length_sensor\\\\JupyterLab\\\\data\\\\real_static_extracted\\\\{date}_{file_count}_{measurement_kind}_{pressure_with_decimal}_se.csv\",\n",
    "    index=False,\n",
    ")"
   ]
  },
  {
   "cell_type": "markdown",
   "id": "5833f096-f17d-4a37-b857-7a5c37cba58f",
   "metadata": {},
   "source": [
    "## "
   ]
  }
 ],
 "metadata": {
  "kernelspec": {
   "display_name": "Python 3 (ipykernel)",
   "language": "python",
   "name": "python3"
  },
  "language_info": {
   "codemirror_mode": {
    "name": "ipython",
    "version": 3
   },
   "file_extension": ".py",
   "mimetype": "text/x-python",
   "name": "python",
   "nbconvert_exporter": "python",
   "pygments_lexer": "ipython3",
   "version": "3.8.13"
  }
 },
 "nbformat": 4,
 "nbformat_minor": 5
}

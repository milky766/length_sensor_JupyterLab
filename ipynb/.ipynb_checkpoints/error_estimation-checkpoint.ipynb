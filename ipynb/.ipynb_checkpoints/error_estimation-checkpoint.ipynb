{
 "cells": [
  {
   "cell_type": "code",
   "execution_count": 40,
   "id": "a8589454-be90-4149-9ed6-42856cc8037a",
   "metadata": {},
   "outputs": [
    {
     "name": "stdin",
     "output_type": "stream",
     "text": [
      "動的テストの日付を入力してください:  20231207\n"
     ]
    }
   ],
   "source": [
    "import pandas as pd\n",
    "\n",
    "data = input(\"動的テストの日付を入力してください: \")"
   ]
  },
  {
   "cell_type": "code",
   "execution_count": 53,
   "id": "c36bdbc6-1df6-41e7-9148-f6141975866a",
   "metadata": {},
   "outputs": [
    {
     "name": "stdin",
     "output_type": "stream",
     "text": [
      "動的テストの回数を入力してください:  5\n"
     ]
    }
   ],
   "source": [
    "count1 = input(\"動的テストの回数を入力してください: \")"
   ]
  },
  {
   "cell_type": "code",
   "execution_count": 54,
   "id": "12fbb3fc-edf4-4b46-8872-53f071f8fea0",
   "metadata": {},
   "outputs": [
    {
     "name": "stdin",
     "output_type": "stream",
     "text": [
      "マッキベンの種類を入力してください:  4ss\n"
     ]
    }
   ],
   "source": [
    "kind = input(\"マッキベンの種類を入力してください: \")"
   ]
  },
  {
   "cell_type": "code",
   "execution_count": 55,
   "id": "a74b113b-a079-458f-89f6-b43562a3cc44",
   "metadata": {},
   "outputs": [
    {
     "name": "stdin",
     "output_type": "stream",
     "text": [
      "静的テストの回数を入力してください:  4\n"
     ]
    }
   ],
   "source": [
    "count2 = input(\"静的テストの回数を入力してください: \")"
   ]
  },
  {
   "cell_type": "code",
   "execution_count": 56,
   "id": "d289c0e9-7d80-4760-9e76-578d5ace8d1b",
   "metadata": {},
   "outputs": [
    {
     "name": "stdout",
     "output_type": "stream",
     "text": [
      "0     -0.921776\n",
      "1     -0.972843\n",
      "2     -0.921776\n",
      "3     -0.921776\n",
      "4     -0.939915\n",
      "         ...   \n",
      "223         NaN\n",
      "224         NaN\n",
      "225         NaN\n",
      "226         NaN\n",
      "227         NaN\n",
      "Name: Error_Percentage_Contraction, Length: 228, dtype: float64\n",
      "0           NaN\n",
      "1           NaN\n",
      "2           NaN\n",
      "3           NaN\n",
      "4           NaN\n",
      "         ...   \n",
      "223   -0.408226\n",
      "224   -0.402720\n",
      "225   -0.430399\n",
      "226   -0.460528\n",
      "227   -0.498257\n",
      "Name: Error_Percentage_Extension, Length: 228, dtype: float64\n"
     ]
    }
   ],
   "source": [
    "# CSVファイルを読み込む（ファイルパスは適切に変更してください）\n",
    "df = pd.read_csv(f'C:\\\\Users\\\\Mizuki\\\\University\\\\Reserch\\\\length_sensor\\\\JupyterLab\\\\data\\\\estimated_L_for_dynamic_experiment\\\\{data}_{count1}_{kind}_by_{count2}_L_estimation_ec.csv')\n",
    "\n",
    "# 誤差を計算して新しい列 'Error_Percentage' を追加する\n",
    "df['Error_Percentage_Contraction'] = ((df['Real_Estimated_Length_Contraction'] - df['real_length_contraction']) / df['real_length_contraction']) * 100\n",
    "df['Error_Percentage_Extension'] = ((df['Real_Estimated_Length_Extension'] - df['real_length_extension']) / df['real_length_extension']) * 100\n",
    "\n",
    "df.to_csv(f'C:\\\\Users\\\\Mizuki\\\\University\\\\Reserch\\\\length_sensor\\\\JupyterLab\\\\data\\\\estimated_L_for_dynamic_experiment\\\\{data}_{count1}_{kind}_by_{count2}_L_estimation_ec.csv', index=False)\n",
    "\n",
    "print(df['Error_Percentage_Contraction'])\n",
    "print(df['Error_Percentage_Extension'])"
   ]
  },
  {
   "cell_type": "code",
   "execution_count": null,
   "id": "a749ec97-8dab-4ff3-8cde-bfa24b67089c",
   "metadata": {},
   "outputs": [],
   "source": []
  }
 ],
 "metadata": {
  "kernelspec": {
   "display_name": "Python 3 (ipykernel)",
   "language": "python",
   "name": "python3"
  },
  "language_info": {
   "codemirror_mode": {
    "name": "ipython",
    "version": 3
   },
   "file_extension": ".py",
   "mimetype": "text/x-python",
   "name": "python",
   "nbconvert_exporter": "python",
   "pygments_lexer": "ipython3",
   "version": "3.8.13"
  }
 },
 "nbformat": 4,
 "nbformat_minor": 5
}

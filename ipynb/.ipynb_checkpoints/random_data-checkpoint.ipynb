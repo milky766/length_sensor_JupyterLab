{
 "cells": [
  {
   "cell_type": "code",
   "execution_count": 8,
   "id": "1b9f3175-02ba-4db4-b5d4-407f43d9ded4",
   "metadata": {},
   "outputs": [],
   "source": [
    "import csv \n",
    "import random"
   ]
  },
  {
   "cell_type": "code",
   "execution_count": 7,
   "id": "98e3455a-a12c-480e-a65f-8b70d74dd2a3",
   "metadata": {},
   "outputs": [],
   "source": [
    "# ヘッダーを指定\n",
    "field_names = [\"Pressure\", \"Length\", \"Force\"]\n",
    "\n",
    "# CSVファイルにデータを書き込み\n",
    "with open(\"sample_data(5).csv\", mode=\"w\", newline=\"\") as file: #ファイルをオープンしてデータを読み書きし、ファイルを自動的にクローズする場面で with ステートメントがよく使われます。\n",
    "    writer.writeheader()\n",
    "#ここでファイルは自動的にクローズされる\n",
    "\n",
    "    # データを生成して書き込み\n",
    "    pressure = 50.0  # 圧力は一定と仮定\n",
    "    for _ in range(100): #この場合、_ はループの繰り返し回数を表す変数として使用されていますが、実際のコード内でこの値を使用する必要がないため、単に「無視される」変数として _ が選ばれたと考えられます。\n",
    "        length = random.uniform(120,150)  # 1.0から10.0の範囲でランダムな長さ\n",
    "        force = random.uniform(100,200)  # 5.0から50.0の範囲でランダムな力\n",
    "        writer.writerow({\"Pressure\": pressure, \"Length\": length, \"Force\": force})\n",
    "\n",
    "    "
   ]
  }
 ],
 "metadata": {
  "kernelspec": {
   "display_name": "Python 3 (ipykernel)",
   "language": "python",
   "name": "python3"
  },
  "language_info": {
   "codemirror_mode": {
    "name": "ipython",
    "version": 3
   },
   "file_extension": ".py",
   "mimetype": "text/x-python",
   "name": "python",
   "nbconvert_exporter": "python",
   "pygments_lexer": "ipython3",
   "version": "3.8.13"
  }
 },
 "nbformat": 4,
 "nbformat_minor": 5
}

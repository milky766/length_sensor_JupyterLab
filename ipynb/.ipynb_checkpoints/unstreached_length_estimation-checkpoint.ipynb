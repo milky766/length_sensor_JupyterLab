{
 "cells": [
  {
   "cell_type": "code",
   "execution_count": null,
   "id": "cfc1c03c-e37d-4572-bacf-6d2d7b95f5d0",
   "metadata": {},
   "outputs": [],
   "source": [
    "import pandas as pd"
   ]
  },
  {
   "cell_type": "code",
   "execution_count": 2,
   "id": "23c48acc-2d67-42ac-8170-fdbf4fb3861e",
   "metadata": {},
   "outputs": [
    {
     "name": "stdin",
     "output_type": "stream",
     "text": [
      "Enter the data date:  20231220\n"
     ]
    }
   ],
   "source": [
    "data_date = input(\"Enter the data date: \")"
   ]
  },
  {
   "cell_type": "code",
   "execution_count": 33,
   "id": "ccee14b0-d922-44cf-81e1-b83537ba8038",
   "metadata": {},
   "outputs": [
    {
     "name": "stdin",
     "output_type": "stream",
     "text": [
      "Enter the experiment number:  5\n"
     ]
    }
   ],
   "source": [
    "experiment_number = input(\"Enter the experiment number: \")"
   ]
  },
  {
   "cell_type": "code",
   "execution_count": 4,
   "id": "f5b15245-0cd6-47fc-ae4d-ab6a70501760",
   "metadata": {},
   "outputs": [
    {
     "name": "stdin",
     "output_type": "stream",
     "text": [
      "Enter the Mackieben type (6 or 4s or 4ss or s):  s\n"
     ]
    }
   ],
   "source": [
    "mackieben_type = input(\"Enter the Mackieben type (6 or 4s or 4ss or s): \")"
   ]
  },
  {
   "cell_type": "code",
   "execution_count": 39,
   "id": "de0c43c1-90d3-49c6-979c-4e41b3183af0",
   "metadata": {},
   "outputs": [
    {
     "name": "stdin",
     "output_type": "stream",
     "text": [
      "Enter the pressure value:  6\n"
     ]
    },
    {
     "name": "stdout",
     "output_type": "stream",
     "text": [
      "Results saved to C:\\Users\\Mizuki\\University\\Reserch\\length_sensor\\JupyterLab\\data\\estimated_static_extracted\\20231220_5_s_0.6_ese.csv\n",
      "\n",
      "Contents of the saved file:\n",
      "     Time  Length  Pressure  Force  Estimated Unstretched Length  \\\n",
      "0    1099     0.0     0.598    0.0                     159.45372   \n",
      "1    2754     2.5     0.599    9.6                     159.42086   \n",
      "2    4907     4.9     0.599   21.5                     159.42086   \n",
      "3    6984     7.3     0.599   35.7                     159.42086   \n",
      "4    9138     9.7     0.599   51.7                     159.42086   \n",
      "5   11119    12.2     0.599   69.0                     159.42086   \n",
      "6   13254    14.7     0.599   87.7                     159.42086   \n",
      "7   15492    17.5     0.600  108.3                     159.38800   \n",
      "8   17482    19.6     0.599  124.4                     159.42086   \n",
      "9   19218    22.3     0.602  146.3                     159.32228   \n",
      "10  21318    24.7     0.603  165.7                     159.28942   \n",
      "11  23315    27.1     0.604  186.0                     159.25656   \n",
      "12  25526    29.5     0.607  206.8                     159.15798   \n",
      "13  27502    31.9     0.609  228.9                     159.09226   \n",
      "14  29544    34.3     0.613  251.4                     158.96082   \n",
      "15  31699    36.5     0.615  271.6                     158.89510   \n",
      "16  34993    39.2     0.618  296.5                     158.79652   \n",
      "17  36769    36.6     0.603  262.4                     159.28942   \n",
      "18  38917    34.5     0.599  241.4                     159.42086   \n",
      "19  40918    31.6     0.599  216.0                     159.42086   \n",
      "20  43175    29.2     0.599  194.9                     159.42086   \n",
      "21  45092    26.5     0.599  171.8                     159.42086   \n",
      "22  47009    24.3     0.599  152.7                     159.42086   \n",
      "23  48856    21.5     0.599  129.8                     159.42086   \n",
      "24  50659    19.6     0.599  114.7                     159.42086   \n",
      "25  52447    17.0     0.598   94.6                     159.45372   \n",
      "26  54620    14.4     0.599   75.2                     159.42086   \n",
      "27  56511    12.1     0.599   58.5                     159.42086   \n",
      "28  58388     9.4     0.599   39.2                     159.42086   \n",
      "29  60120     7.2     0.599   24.9                     159.42086   \n",
      "30  62179     4.6     0.599   10.3                     159.42086   \n",
      "31  64912     2.8     0.598    3.8                     159.45372   \n",
      "32  70723     0.7     0.598    0.1                     159.45372   \n",
      "\n",
      "    Estimated Stretched Length  Real Stretched Length  \n",
      "0                    159.45372                  152.1  \n",
      "1                    161.92086                  154.6  \n",
      "2                    164.32086                  157.0  \n",
      "3                    166.72086                  159.4  \n",
      "4                    169.12086                  161.8  \n",
      "5                    171.62086                  164.3  \n",
      "6                    174.12086                  166.8  \n",
      "7                    176.88800                  169.6  \n",
      "8                    179.02086                  171.7  \n",
      "9                    181.62228                  174.4  \n",
      "10                   183.98942                  176.8  \n",
      "11                   186.35656                  179.2  \n",
      "12                   188.65798                  181.6  \n",
      "13                   190.99226                  184.0  \n",
      "14                   193.26082                  186.4  \n",
      "15                   195.39510                  188.6  \n",
      "16                   197.99652                  191.3  \n",
      "17                   195.88942                  188.7  \n",
      "18                   193.92086                  186.6  \n",
      "19                   191.02086                  183.7  \n",
      "20                   188.62086                  181.3  \n",
      "21                   185.92086                  178.6  \n",
      "22                   183.72086                  176.4  \n",
      "23                   180.92086                  173.6  \n",
      "24                   179.02086                  171.7  \n",
      "25                   176.45372                  169.1  \n",
      "26                   173.82086                  166.5  \n",
      "27                   171.52086                  164.2  \n",
      "28                   168.82086                  161.5  \n",
      "29                   166.62086                  159.3  \n",
      "30                   164.02086                  156.7  \n",
      "31                   162.25372                  154.9  \n",
      "32                   160.15372                  152.8  \n"
     ]
    }
   ],
   "source": [
    "pressure_value = input(\"Enter the pressure value: \")\n",
    "pressure_decimal2 = float(f\"0.{pressure_value}\")\n",
    "\n",
    "# CSVファイルからフィッティングパラメータを読み込む\n",
    "fit_params_path = 'C:\\\\Users\\\\Mizuki\\\\University\\\\Reserch\\\\length_sensor\\\\JupyterLab\\\\data\\\\length_pressure\\\\fit_params.csv'\n",
    "fit_params = pd.read_csv(fit_params_path, index_col=0)\n",
    "\n",
    "fit_params2_path = 'C:\\\\Users\\\\Mizuki\\\\University\\\\Reserch\\\\length_sensor\\\\JupyterLab\\\\data\\\\length_pressure\\\\length_pressure.csv'\n",
    "fit_params2 = pd.read_csv(fit_params2_path, index_col=0)\n",
    "\n",
    "# 簡単な入力に基づいて選択されたフィッティングパラメータの名前を取得\n",
    "parameter_mapping = {'6': 'PAM-A', '4s': 'PAM-B', '4ss': 'PAM-C', 's': 'PAM-D'}\n",
    "selected_parameter = parameter_mapping.get(mackieben_type.lower())\n",
    "\n",
    "# 選択された行と列の値を取得\n",
    "selected_value = fit_params2.loc[pressure_decimal2, selected_parameter]\n",
    "\n",
    "if selected_parameter is not None:\n",
    "    # 選択されたフィッティングパラメータの値\n",
    "    selected_slope = fit_params.loc[selected_parameter, 'Slope']\n",
    "    selected_intercept = fit_params.loc[selected_parameter, 'Intercept']\n",
    "\n",
    "    # CSVファイルからPressureの値を読み込む\n",
    "    pressure_path = f'C:\\\\Users\\\\Mizuki\\\\University\\\\Reserch\\\\length_sensor\\\\JupyterLab\\\\data\\\\real_static_extracted\\\\{data_date}_{experiment_number}_{mackieben_type}_{pressure_decimal2}_se.csv'\n",
    "    pressure_data = pd.read_csv(pressure_path)\n",
    "\n",
    "    # Pressureに対するLengthを推定\n",
    "    length_estimates = selected_slope * pressure_data['Pressure'] + selected_intercept\n",
    "\n",
    "    # 推定値を元のデータに追加\n",
    "    pressure_data['Estimated Unstretched Length'] = length_estimates\n",
    "\n",
    "    # length 列と Estimated Unstretched Length 列の値を足し合わせて Estimated Stretched Length 列を作成\n",
    "    pressure_data['Estimated Stretched Length'] = pressure_data['Length'] + pressure_data['Estimated Unstretched Length']\n",
    "\n",
    "    # length 列と selected_valueの値を足し合わせて Real Stretched Length 列を作成\n",
    "    pressure_data['Real Stretched Length'] = pressure_data['Length'] + selected_value\n",
    "\n",
    "\n",
    "    # 元のデータと推定値を別のcsvファイルに保存\n",
    "    result_path = f'C:\\\\Users\\\\Mizuki\\\\University\\\\Reserch\\\\length_sensor\\\\JupyterLab\\\\data\\\\estimated_static_extracted\\\\{data_date}_{experiment_number}_{mackieben_type}_{pressure_decimal2}_ese.csv'\n",
    "    pressure_data.to_csv(result_path, index=False)\n",
    "\n",
    "    print(f\"Results saved to {result_path}\")\n",
    "\n",
    "    # 保存したファイルの中身をプリント\n",
    "    print(\"\\nContents of the saved file:\")\n",
    "    print(pressure_data)\n",
    "else:\n",
    "    print(\"Invalid input. Please enter 6, 4s, 4ss, or s.\")"
   ]
  },
  {
   "cell_type": "code",
   "execution_count": null,
   "id": "44c863f1-628b-42d9-91c2-6380bbcaf214",
   "metadata": {},
   "outputs": [],
   "source": []
  },
  {
   "cell_type": "code",
   "execution_count": null,
   "id": "23758414-483a-47af-ac93-88d557335250",
   "metadata": {},
   "outputs": [],
   "source": []
  }
 ],
 "metadata": {
  "kernelspec": {
   "display_name": "Python 3 (ipykernel)",
   "language": "python",
   "name": "python3"
  },
  "language_info": {
   "codemirror_mode": {
    "name": "ipython",
    "version": 3
   },
   "file_extension": ".py",
   "mimetype": "text/x-python",
   "name": "python",
   "nbconvert_exporter": "python",
   "pygments_lexer": "ipython3",
   "version": "3.8.13"
  }
 },
 "nbformat": 4,
 "nbformat_minor": 5
}

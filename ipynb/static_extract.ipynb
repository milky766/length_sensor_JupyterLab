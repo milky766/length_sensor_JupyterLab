{
 "cells": [
  {
   "cell_type": "code",
   "execution_count": 37,
   "id": "6864b073-d819-4a42-8dd1-1d9f3043f9d4",
   "metadata": {},
   "outputs": [
    {
     "name": "stdin",
     "output_type": "stream",
     "text": [
      "データの日付を入力してください(例:20231118):  20231220\n",
      "測定するマッキベンの種類を入力してください(4s or 4l or 6 or s or u):  s\n"
     ]
    }
   ],
   "source": [
    "import pandas as pd\n",
    "\n",
    "date = input(\"データの日付を入力してください(例:20231118): \")\n",
    "measurement_kind = input(\"測定するマッキベンの種類を入力してください(4s or 4l or 6 or s or u): \")"
   ]
  },
  {
   "cell_type": "code",
   "execution_count": 56,
   "id": "cdc01855-ceab-49f7-9a1e-9b9be0897173",
   "metadata": {},
   "outputs": [
    {
     "name": "stdin",
     "output_type": "stream",
     "text": [
      "圧力を入力してください(例}:4):  5\n"
     ]
    }
   ],
   "source": [
    "pressure = input(\"圧力を入力してください(例}:4): \")"
   ]
  },
  {
   "cell_type": "code",
   "execution_count": 61,
   "id": "10282c27-e867-4ed6-8738-63d7037db9e4",
   "metadata": {},
   "outputs": [
    {
     "name": "stdin",
     "output_type": "stream",
     "text": [
      "測定回数を入力してください(例:1):  5\n"
     ]
    },
    {
     "name": "stdout",
     "output_type": "stream",
     "text": [
      "       Time Length Pressure  Force\n",
      "73     1470    0.0    0.503    0.0\n",
      "177    3549    2.6    0.503    3.9\n",
      "274    5483    4.9    0.503   11.3\n",
      "384    7678    7.3    0.503   21.7\n",
      "485    9697    9.8    0.503   34.5\n",
      "592   11831   12.1    0.503   48.0\n",
      "690   13790   14.6    0.503   63.1\n",
      "796   15900   17.0    0.504   78.0\n",
      "900   17976   19.8    0.504   96.1\n",
      "1006  20092   22.1    0.504  110.9\n",
      "1114  22249   24.5    0.504  127.5\n",
      "1240  24764   27.0    0.505  144.5\n",
      "1349  26944   29.5    0.508  163.1\n",
      "1449  28940   31.7    0.509  180.1\n",
      "1589  31728   34.4    0.511  200.6\n",
      "1706  34066   36.7    0.514  218.3\n",
      "1848  36901   39.5    0.517  241.5\n",
      "1959  39113   36.6    0.503  210.2\n",
      "2062  41173   34.2    0.503  191.2\n",
      "2157  43070   32.0    0.503  174.6\n",
      "2257  45059   29.2    0.501  154.1\n",
      "2352  46953   26.9    0.501  137.1\n",
      "2459  49098   24.2    0.501  118.0\n",
      "2562  51148   21.8    0.503  101.5\n",
      "2638  52667   19.0    0.501   82.5\n",
      "2757  55049   16.5    0.503   67.0\n",
      "2853  56962   14.0    0.501   50.9\n",
      "2959  59074   11.7    0.503   37.4\n",
      "3055  60988    9.5    0.503   25.0\n",
      "3164  63172    7.1    0.503   12.6\n",
      "3259  65067    4.8    0.501    4.4\n",
      "3378  67443    2.3    0.503    0.2\n",
      "3614  72153    0.3    0.503    0.1\n"
     ]
    }
   ],
   "source": [
    "file_count = input(\"測定回数を入力してください(例:1): \")\n",
    "pressure_with_decimal = f\"0.{pressure}\"\n",
    "\n",
    "# CSVデータの読み込み\n",
    "df = pd.read_csv(\n",
    "    f\"C:\\\\Users\\\\Mizuki\\\\University\\\\Reserch\\\\length_sensor\\\\JupyterLab\\\\data\\\\real\\\\real_{date}_{file_count}_{measurement_kind}_{pressure_with_decimal}_s.csv\"\n",
    "    #f\"C:\\\\Users\\\\Mizuki\\\\OneDrive - Kyoto University\\\\University\\\\Reserch\\\\length_sensor\\\\JupyterLab\\\\data\\\\real\\\\real_{date}_{file_count}_{measurement_kind}_{pressure_with_decimal}_s.csv\"\n",
    ")\n",
    "\n",
    "\n",
    "def process_data(df):\n",
    "    result_df = pd.DataFrame(columns=df.columns)\n",
    "\n",
    "    current_value = None\n",
    "    consecutive_count = 0\n",
    "\n",
    "    for index, row in df.iterrows():\n",
    "        if row['Length'] == current_value:\n",
    "            consecutive_count += 1\n",
    "        else:\n",
    "            if consecutive_count >= 41:\n",
    "                middle_index = index - 40\n",
    "                result_df = pd.concat([result_df, df.loc[[middle_index]]])\n",
    "            elif consecutive_count == 40:\n",
    "                middle_index = index - 19\n",
    "                result_df = pd.concat([result_df, df.loc[[middle_index]]])\n",
    "            consecutive_count = 1\n",
    "            current_value = row['Length']\n",
    "\n",
    "    # 最後に残りの行を追加\n",
    "    if consecutive_count >= 41:\n",
    "        middle_index = index - 40\n",
    "        result_df = pd.concat([result_df, df.loc[[middle_index]]])\n",
    "    elif consecutive_count == 40:\n",
    "        middle_index = index - 19\n",
    "        result_df = pd.concat([result_df, df.loc[[middle_index]]])\n",
    "\n",
    "    return result_df\n",
    "\n",
    "# 処理後のデータフレームを取得\n",
    "processed_df = process_data(df)\n",
    "\n",
    "# 重複行を削除\n",
    "processed_df = processed_df.drop_duplicates()\n",
    "\n",
    "# 結果の表示\n",
    "print(processed_df)\n",
    "\n",
    "# CSVファイルに保存\n",
    "processed_df.to_csv(\n",
    "    f\"C:\\\\Users\\\\Mizuki\\\\University\\\\Reserch\\\\length_sensor\\\\JupyterLab\\\\data\\\\real_static_extracted\\\\{date}_{file_count}_{measurement_kind}_{pressure_with_decimal}_se.csv\",\n",
    "    #f\"C:\\\\Users\\\\Mizuki\\\\OneDrive - Kyoto University\\\\University\\\\Reserch\\\\length_sensor\\\\JupyterLab\\\\data\\\\real_static_extracted\\\\{date}_{file_count}_{measurement_kind}_{pressure_with_decimal}_se.csv\",\n",
    "    index=False,\n",
    ")"
   ]
  },
  {
   "cell_type": "markdown",
   "id": "5833f096-f17d-4a37-b857-7a5c37cba58f",
   "metadata": {},
   "source": [
    "## "
   ]
  }
 ],
 "metadata": {
  "kernelspec": {
   "display_name": "Python 3 (ipykernel)",
   "language": "python",
   "name": "python3"
  },
  "language_info": {
   "codemirror_mode": {
    "name": "ipython",
    "version": 3
   },
   "file_extension": ".py",
   "mimetype": "text/x-python",
   "name": "python",
   "nbconvert_exporter": "python",
   "pygments_lexer": "ipython3",
   "version": "3.8.13"
  }
 },
 "nbformat": 4,
 "nbformat_minor": 5
}

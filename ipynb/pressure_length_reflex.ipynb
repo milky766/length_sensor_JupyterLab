{
 "cells": [
  {
   "cell_type": "code",
   "execution_count": 1,
   "id": "edb02fe2-5235-4ea3-ac4d-f1e81085eee3",
   "metadata": {},
   "outputs": [
    {
     "ename": "NameError",
     "evalue": "name 'df_cleaned' is not defined",
     "output_type": "error",
     "traceback": [
      "\u001b[1;31m---------------------------------------------------------------------------\u001b[0m",
      "\u001b[1;31mNameError\u001b[0m                                 Traceback (most recent call last)",
      "Input \u001b[1;32mIn [1]\u001b[0m, in \u001b[0;36m<cell line: 19>\u001b[1;34m()\u001b[0m\n\u001b[0;32m     16\u001b[0m markers \u001b[38;5;241m=\u001b[39m [\u001b[38;5;124m'\u001b[39m\u001b[38;5;124mo\u001b[39m\u001b[38;5;124m'\u001b[39m, \u001b[38;5;124m'\u001b[39m\u001b[38;5;124ms\u001b[39m\u001b[38;5;124m'\u001b[39m]  \u001b[38;5;66;03m# 各データに対する記号を指定\u001b[39;00m\n\u001b[0;32m     17\u001b[0m colors \u001b[38;5;241m=\u001b[39m plt\u001b[38;5;241m.\u001b[39mrcParams[\u001b[38;5;124m'\u001b[39m\u001b[38;5;124maxes.prop_cycle\u001b[39m\u001b[38;5;124m'\u001b[39m]\u001b[38;5;241m.\u001b[39mby_key()[\u001b[38;5;124m'\u001b[39m\u001b[38;5;124mcolor\u001b[39m\u001b[38;5;124m'\u001b[39m]  \u001b[38;5;66;03m# カラーサイクルから色を取得\u001b[39;00m\n\u001b[1;32m---> 19\u001b[0m \u001b[38;5;28;01mfor\u001b[39;00m i, col \u001b[38;5;129;01min\u001b[39;00m \u001b[38;5;28menumerate\u001b[39m(\u001b[43mdf_cleaned\u001b[49m\u001b[38;5;241m.\u001b[39mcolumns):\n\u001b[0;32m     20\u001b[0m     \u001b[38;5;66;03m# 線形回帰の計算\u001b[39;00m\n\u001b[0;32m     21\u001b[0m     x \u001b[38;5;241m=\u001b[39m df_cleaned\u001b[38;5;241m.\u001b[39mindex\u001b[38;5;241m.\u001b[39mvalues\u001b[38;5;241m.\u001b[39mreshape(\u001b[38;5;241m-\u001b[39m\u001b[38;5;241m1\u001b[39m, \u001b[38;5;241m1\u001b[39m)\n\u001b[0;32m     22\u001b[0m     y \u001b[38;5;241m=\u001b[39m df_cleaned[col]\u001b[38;5;241m.\u001b[39mvalues\u001b[38;5;241m.\u001b[39mreshape(\u001b[38;5;241m-\u001b[39m\u001b[38;5;241m1\u001b[39m, \u001b[38;5;241m1\u001b[39m)\n",
      "\u001b[1;31mNameError\u001b[0m: name 'df_cleaned' is not defined"
     ]
    },
    {
     "data": {
      "text/plain": [
       "<Figure size 720x432 with 0 Axes>"
      ]
     },
     "metadata": {},
     "output_type": "display_data"
    },
    {
     "data": {
      "image/png": "[encoded data removed]",
      "text/plain": [
       "<Figure size 432x288 with 1 Axes>"
      ]
     },
     "metadata": {
      "needs_background": "light"
     },
     "output_type": "display_data"
    }
   ],
   "source": [
    "import matplotlib.pyplot as plt\n",
    "import pandas as pd\n",
    "\n",
    "\n",
    "# Load the data from the CSV file\n",
    "file_path = \"C:\\\\Users\\\\Mizuki\\\\University\\\\Reserch\\\\length_sensor\\\\JupyterLab\\\\data\\\\length_pressure_reflex\\\\length_pressure_reflex.csv\"\n",
    "data = pd.read_csv(file_path)\n",
    "\n",
    "# Display the first few rows of the dataset to understand its structure\n",
    "data.head()\n",
    "# Plotting the data\n",
    "plt.figure(figsize=(10, 6))\n",
    "\n",
    "# グラフのプロット\n",
    "fig, ax = plt.subplots()\n",
    "markers = ['o', 's']  # 各データに対する記号を指定\n",
    "colors = plt.rcParams['axes.prop_cycle'].by_key()['color']  # カラーサイクルから色を取得\n",
    "\n",
    "for i, col in enumerate(df_cleaned.columns):\n",
    "    # 線形回帰の計算\n",
    "    x = df_cleaned.index.values.reshape(-1, 1)\n",
    "    y = df_cleaned[col].values.reshape(-1, 1)\n",
    "    model = np.polyfit(x.flatten(), y.flatten(), 1)\n",
    "    predicted = np.poly1d(model)(x)\n",
    "\n",
    "    # データ点のプロット\n",
    "    ax.plot(df_cleaned.index, df_cleaned[col], label=col, marker=markers[i], linestyle='None', markersize=5, color=colors[i])\n",
    "\n",
    "    # 最小二乗法による線をプロット\n",
    "    ax.plot(df_cleaned.index, predicted, linestyle='--', color=colors[i])\n",
    "\n",
    "ax.set_xticks(np.arange(0.2, 0.7, 0.1))\n",
    "\n",
    "plt.xlabel('Pressure [MPa]')\n",
    "plt.ylabel('Natural Length [mm]')\n",
    "plt.legend()\n",
    "plt.grid(True)\n",
    "plt.show()"
   ]
  },
  {
   "cell_type": "code",
   "execution_count": 4,
   "id": "cebed7b2-e5bc-45f9-a561-9ded7fb07572",
   "metadata": {},
   "outputs": [
    {
     "ename": "NameError",
     "evalue": "name 'pressure_ranges' is not defined",
     "output_type": "error",
     "traceback": [
      "\u001b[1;31m---------------------------------------------------------------------------\u001b[0m",
      "\u001b[1;31mNameError\u001b[0m                                 Traceback (most recent call last)",
      "Input \u001b[1;32mIn [4]\u001b[0m, in \u001b[0;36m<cell line: 16>\u001b[1;34m()\u001b[0m\n\u001b[0;32m     14\u001b[0m fig, ax \u001b[38;5;241m=\u001b[39m plt\u001b[38;5;241m.\u001b[39msubplots()\n\u001b[0;32m     16\u001b[0m \u001b[38;5;28;01mfor\u001b[39;00m i, col \u001b[38;5;129;01min\u001b[39;00m \u001b[38;5;28menumerate\u001b[39m(data\u001b[38;5;241m.\u001b[39mcolumns):\n\u001b[0;32m     17\u001b[0m     \u001b[38;5;66;03m# Select data for regression based on the specified pressure range\u001b[39;00m\n\u001b[1;32m---> 18\u001b[0m     min_pressure, max_pressure \u001b[38;5;241m=\u001b[39m \u001b[43mpressure_ranges\u001b[49m[col]\n\u001b[0;32m     19\u001b[0m     data_for_regression \u001b[38;5;241m=\u001b[39m data[(data\u001b[38;5;241m.\u001b[39mindex \u001b[38;5;241m>\u001b[39m\u001b[38;5;241m=\u001b[39m min_pressure) \u001b[38;5;241m&\u001b[39m (data\u001b[38;5;241m.\u001b[39mindex \u001b[38;5;241m<\u001b[39m\u001b[38;5;241m=\u001b[39m max_pressure)][col]\u001b[38;5;241m.\u001b[39mdropna()\n\u001b[0;32m     20\u001b[0m     x \u001b[38;5;241m=\u001b[39m data_for_regression\u001b[38;5;241m.\u001b[39mindex\u001b[38;5;241m.\u001b[39mvalues\n",
      "\u001b[1;31mNameError\u001b[0m: name 'pressure_ranges' is not defined"
     ]
    },
    {
     "data": {
      "image/png": "[encoded data removed]",
      "text/plain": [
       "<Figure size 432x288 with 1 Axes>"
      ]
     },
     "metadata": {
      "needs_background": "light"
     },
     "output_type": "display_data"
    }
   ],
   "source": [
    "import matplotlib.pyplot as plt\n",
    "import pandas as pd\n",
    "\n",
    "\n",
    "# Load the data from the CSV file\n",
    "file_path = \"C:\\\\Users\\\\Mizuki\\\\University\\\\Reserch\\\\length_sensor\\\\JupyterLab\\\\data\\\\length_pressure_reflex\\\\length_pressure_reflex.csv\"\n",
    "data = pd.read_csv(file_path)\n",
    "\n",
    "# Extending the markers and colors if necessary to ensure there are enough for each PAM series\n",
    "extended_markers = markers * ((len(data.columns) // len(markers)) + 1)\n",
    "extended_colors = colors * ((len(data.columns) // len(colors)) + 1)\n",
    "\n",
    "# Re-plotting the graph ensuring to use extended markers and colors\n",
    "fig, ax = plt.subplots()\n",
    "\n",
    "for i, col in enumerate(data.columns):\n",
    "    # Select data for regression based on the specified pressure range\n",
    "    min_pressure, max_pressure = pressure_ranges[col]\n",
    "    data_for_regression = data[(data.index >= min_pressure) & (data.index <= max_pressure)][col].dropna()\n",
    "    x = data_for_regression.index.values\n",
    "    y = data_for_regression.values\n",
    "    \n",
    "    # Perform linear regression if data is available\n",
    "    if len(x) > 0:\n",
    "        model = np.polyfit(x, y, 1)\n",
    "        p = np.poly1d(model)  # Polynomial for the regression line\n",
    "        \n",
    "        # Plot data points\n",
    "        ax.scatter(x, y, label=col, marker=extended_markers[i], color=extended_colors[i])\n",
    "        \n",
    "        # Plot regression line\n",
    "        x_line = np.linspace(min_pressure,max_pressure, 100)\n",
    "        y_line = p(x_line)\n",
    "        ax.plot(x_line, y_line, linestyle='--', color=extended_colors[i])\n",
    "\n",
    "# Graph decoration\n",
    "ax.set_xlabel('Pressure [MPa]')\n",
    "ax.set_ylabel('Natural Length [mm]')\n",
    "ax.set_xticks(np.arange(0.2, 0.9, 0.1))\n",
    "ax.legend()\n",
    "plt.grid(True)\n",
    "\n",
    "save_path = 'C:\\\\Users\\\\Mizuki\\\\University\\\\Reserch\\\\length_sensor\\\\JupyterLab\\\\graph\\\\length_pressure_reflex\\\\length_pressure_reflex.jpg'  # 保存先のパスを変更\n",
    "plt.savefig(save_path, bbox_inches='tight')  # bbox_inches='tight' で余白を最小限に設定"
   ]
  },
  {
   "cell_type": "code",
   "execution_count": 37,
   "id": "8b50fbb0-ecc0-4be0-a5df-238af373d71b",
   "metadata": {},
   "outputs": [
    {
     "ename": "KeyError",
     "evalue": "'Pressure'",
     "output_type": "error",
     "traceback": [
      "\u001b[1;31m---------------------------------------------------------------------------\u001b[0m",
      "\u001b[1;31mKeyError\u001b[0m                                  Traceback (most recent call last)",
      "Input \u001b[1;32mIn [37]\u001b[0m, in \u001b[0;36m<cell line: 19>\u001b[1;34m()\u001b[0m\n\u001b[0;32m     17\u001b[0m fig, ax \u001b[38;5;241m=\u001b[39m plt\u001b[38;5;241m.\u001b[39msubplots()\n\u001b[0;32m     19\u001b[0m \u001b[38;5;28;01mfor\u001b[39;00m i, col \u001b[38;5;129;01min\u001b[39;00m \u001b[38;5;28menumerate\u001b[39m(data\u001b[38;5;241m.\u001b[39mcolumns):\n\u001b[0;32m     20\u001b[0m     \u001b[38;5;66;03m# Select data for regression based on the specified pressure range\u001b[39;00m\n\u001b[1;32m---> 21\u001b[0m     min_pressure, max_pressure \u001b[38;5;241m=\u001b[39m \u001b[43mpressure_ranges\u001b[49m\u001b[43m[\u001b[49m\u001b[43mcol\u001b[49m\u001b[43m]\u001b[49m\n\u001b[0;32m     22\u001b[0m     df_for_regression \u001b[38;5;241m=\u001b[39m data[(data\u001b[38;5;241m.\u001b[39mindex \u001b[38;5;241m>\u001b[39m\u001b[38;5;241m=\u001b[39m min_pressure) \u001b[38;5;241m&\u001b[39m (data\u001b[38;5;241m.\u001b[39mindex \u001b[38;5;241m<\u001b[39m\u001b[38;5;241m=\u001b[39m max_pressure)][col]\n\u001b[0;32m     23\u001b[0m     x \u001b[38;5;241m=\u001b[39m df_for_regression\u001b[38;5;241m.\u001b[39mindex\u001b[38;5;241m.\u001b[39mvalues\n",
      "\u001b[1;31mKeyError\u001b[0m: 'Pressure'"
     ]
    },
    {
     "data": {
      "image/png": "[encoded data removed]",
      "text/plain": [
       "<Figure size 432x288 with 1 Axes>"
      ]
     },
     "metadata": {
      "needs_background": "light"
     },
     "output_type": "display_data"
    }
   ],
   "source": [
    "import matplotlib.pyplot as plt\n",
    "import pandas as pd\n",
    "\n",
    "# Load the data from the CSV file\n",
    "file_path = \"C:\\\\Users\\\\Mizuki\\\\University\\\\Reserch\\\\length_sensor\\\\JupyterLab\\\\data\\\\length_pressure\\\\length_pressure.csv\"\n",
    "data = pd.read_csv(file_path)\n",
    "\n",
    "# Define markers and colors\n",
    "markers = ['o', 's', '^', 'D', 'v']  # ここに必要な数のマーカーを追加してください\n",
    "colors = ['red', 'blue', 'green', 'orange', 'purple']  # ここに必要な数の色を追加してください\n",
    "\n",
    "# Extending the markers and colors if necessary to ensure there are enough for each PAM series\n",
    "extended_markers = markers * ((len(data.columns) // len(markers)) + 1)\n",
    "extended_colors = colors * ((len(data.columns) // len(colors)) + 1)\n",
    "\n",
    "# Re-plotting the graph ensuring to use extended markers and colors\n",
    "fig, ax = plt.subplots()\n",
    "\n",
    "for i, col in enumerate(data.columns):\n",
    "    # Select data for regression based on the specified pressure range\n",
    "    min_pressure, max_pressure = pressure_ranges[col]\n",
    "    df_for_regression = data[(data.index >= min_pressure) & (data.index <= max_pressure)][col]\n",
    "    x = df_for_regression.index.values\n",
    "    y = df_for_regression.values\n",
    "    \n",
    "    # Perform linear regression if data is available\n",
    "    if len(x) > 0:\n",
    "        model = np.polyfit(x, y, 1)\n",
    "        p = np.poly1d(model)  # Polynomial for the regression line\n",
    "        \n",
    "        # Plot data points\n",
    "        ax.scatter(x, y, label=col, marker=extended_markers[i], color=extended_colors[i])\n",
    "        \n",
    "        # Plot regression line\n",
    "        x_line = np.linspace(min_pressure, max_pressure, 100)\n",
    "        y_line = p(x_line)\n",
    "        ax.plot(x_line, y_line, linestyle='--', color=extended_colors[i])\n",
    "\n",
    "# Graph decoration\n",
    "ax.set_xlabel('Pressure [MPa]')\n",
    "ax.set_ylabel('Natural Length [mm]')\n",
    "ax.set_xticks(np.arange(0.2, 0.9, 0.1))\n",
    "ax.legend()\n",
    "plt.grid(True)\n",
    "\n",
    "save_path = 'C:\\\\Users\\\\Mizuki\\\\University\\\\Reserch\\\\length_sensor\\\\JupyterLab\\\\graph\\\\length_pressure\\\\length_pressure.jpg'  # 保存先のパスを変更\n",
    "plt.savefig(save_path, bbox_inches='tight')  # bbox_inches='tight' で余白を最小限に設定\n"
   ]
  },
  {
   "cell_type": "code",
   "execution_count": 45,
   "id": "a7fdeb14-e02e-4d32-a5d4-ebabc37142d9",
   "metadata": {},
   "outputs": [
    {
     "data": {
      "image/png": "[encoded data removed]",
      "text/plain": [
       "<Figure size 432x288 with 1 Axes>"
      ]
     },
     "metadata": {
      "needs_background": "light"
     },
     "output_type": "display_data"
    }
   ],
   "source": [
    "import matplotlib.pyplot as plt\n",
    "import pandas as pd\n",
    "\n",
    "# Load the data from the CSV file\n",
    "file_path = \"C:\\\\Users\\\\Mizuki\\\\University\\\\Reserch\\\\length_sensor\\\\JupyterLab\\\\data\\\\length_pressure\\\\length_pressure.csv\"\n",
    "data = pd.read_csv(file_path)\n",
    "\n",
    "# Extending the markers and colors if necessary to ensure there are enough for each PAM series\n",
    "extended_markers = markers * ((len(data.columns) // len(markers)) + 1)\n",
    "extended_colors = colors * ((len(data.columns) // len(colors)) + 1)\n",
    "\n",
    "# Re-plotting the graph ensuring to use extended markers and colors\n",
    "fig, ax = plt.subplots()\n",
    "\n",
    "for i, col in enumerate(data.columns[1:]):  # ヘッダーの最初の列は 'Pressure' なので、それ以外の列から処理を始める\n",
    "    # Select data for regression based on the specified pressure range\n",
    "    min_pressure, max_pressure = pressure_ranges[col]\n",
    "    df_for_regression = data[(data['Pressure'] >= min_pressure) & (data['Pressure'] <= max_pressure)][col]\n",
    "    x = df_for_regression.index.values\n",
    "    y = df_for_regression.values\n",
    "    \n",
    "    # Perform linear regression if data is available\n",
    "    if len(x) > 0:\n",
    "        model = np.polyfit(x, y, 1)\n",
    "        p = np.poly1d(model)  # Polynomial for the regression line\n",
    "        \n",
    "        # Plot data points\n",
    "        ax.scatter(x, y, label=col, marker=extended_markers[i], color=extended_colors[i])\n",
    "        \n",
    "        # Plot regression line\n",
    "        x_line = np.linspace(min_pressure, max_pressure, 100)\n",
    "        y_line = p(x_line)\n",
    "        ax.plot(x_line, y_line, linestyle='--', color=extended_colors[i])\n",
    "\n",
    "# Graph decoration\n",
    "ax.set_xlabel('Pressure [MPa]')\n",
    "ax.set_ylabel('Natural Length [mm]')\n",
    "ax.set_xticks(np.arange(0.2, 0.9, 0.1))\n",
    "ax.legend()\n",
    "plt.grid(True)\n",
    "\n",
    "save_path = 'C:\\\\Users\\\\Mizuki\\\\University\\\\Reserch\\\\length_sensor\\\\JupyterLab\\\\graph\\\\length_pressure\\\\length_pressure.jpg'  # 保存先のパスを変更\n",
    "plt.savefig(save_path, bbox_inches='tight')  # bbox_inches='tight' で余白を最小限に設定\n"
   ]
  },
  {
   "cell_type": "code",
   "execution_count": 48,
   "id": "cd9af1d7-3978-4dba-b424-1b3d9ea236a2",
   "metadata": {},
   "outputs": [
    {
     "data": {
      "image/png": "[encoded data removed]",
      "text/plain": [
       "<Figure size 432x288 with 1 Axes>"
      ]
     },
     "metadata": {
      "needs_background": "light"
     },
     "output_type": "display_data"
    }
   ],
   "source": [
    "import matplotlib.pyplot as plt\n",
    "import pandas as pd\n",
    "\n",
    "# Load the data from the CSV file\n",
    "file_path = \"C:\\\\Users\\\\Mizuki\\\\University\\\\Reserch\\\\length_sensor\\\\JupyterLab\\\\data\\\\length_pressure\\\\length_pressure.csv\"\n",
    "data = pd.read_csv(file_path)\n",
    "\n",
    "# Extending the markers and colors if necessary to ensure there are enough for each PAM series\n",
    "extended_markers = markers * ((len(data.columns) // len(markers)) + 1)\n",
    "extended_colors = colors * ((len(data.columns) // len(colors)) + 1)\n",
    "\n",
    "# Re-plotting the graph ensuring to use extended markers and colors\n",
    "fig, ax = plt.subplots()\n",
    "\n",
    "for i, col in enumerate(data.columns[1:]):  # ヘッダーの最初の列は 'Pressure' なので、それ以外の列から処理を始める\n",
    "    # Select data for regression based on the specified pressure range\n",
    "    min_pressure, max_pressure = pressure_ranges[col]\n",
    "    df_for_regression = data[(data['Pressure'] >= min_pressure) & (data['Pressure'] <= max_pressure)][col]\n",
    "    x = df_for_regression.index.values\n",
    "    y = df_for_regression.values\n",
    "    \n",
    "    # Perform linear regression if data is available\n",
    "    if len(x) > 0:\n",
    "        model = np.polyfit(x, y, 1)\n",
    "        p = np.poly1d(model)  # Polynomial for the regression line\n",
    "        \n",
    "        # Plot data points\n",
    "        ax.scatter(x, y, label=col, marker=extended_markers[i], color=extended_colors[i])\n",
    "        \n",
    "        # Plot regression line\n",
    "        x_line = np.linspace(min_pressure, max_pressure, 100)\n",
    "        y_line = p(x_line)\n",
    "        ax.plot(x_line, y_line, linestyle='--', color=extended_colors[i])\n",
    "\n",
    "# Graph decoration\n",
    "ax.set_xlabel('Pressure [MPa]')\n",
    "ax.set_ylabel('Natural Length [mm]')\n",
    "ax.set_xticks(np.arange(0.2, 0.9, 0.1))\n",
    "ax.legend()\n",
    "plt.grid(True)\n",
    "\n",
    "save_path = 'C:\\\\Users\\\\Mizuki\\\\University\\\\Reserch\\\\length_sensor\\\\JupyterLab\\\\graph\\\\length_pressure\\\\length_pressure.jpg'  # 保存先のパスを変更\n",
    "plt.savefig(save_path, bbox_inches='tight')  # bbox_inches='tight' で余白を最小限に設定\n"
   ]
  },
  {
   "cell_type": "code",
   "execution_count": 49,
   "id": "d694a9d8-1bc7-49b0-894d-7cb74c5ded5a",
   "metadata": {},
   "outputs": [
    {
     "ename": "TypeError",
     "evalue": "expected non-empty vector for x",
     "output_type": "error",
     "traceback": [
      "\u001b[1;31m---------------------------------------------------------------------------\u001b[0m",
      "\u001b[1;31mTypeError\u001b[0m                                 Traceback (most recent call last)",
      "Input \u001b[1;32mIn [49]\u001b[0m, in \u001b[0;36m<cell line: 17>\u001b[1;34m()\u001b[0m\n\u001b[0;32m     21\u001b[0m y \u001b[38;5;241m=\u001b[39m df_for_regression\u001b[38;5;241m.\u001b[39mvalues\n\u001b[0;32m     23\u001b[0m \u001b[38;5;66;03m# Calculate linear regression\u001b[39;00m\n\u001b[1;32m---> 24\u001b[0m model \u001b[38;5;241m=\u001b[39m \u001b[43mnp\u001b[49m\u001b[38;5;241;43m.\u001b[39;49m\u001b[43mpolyfit\u001b[49m\u001b[43m(\u001b[49m\u001b[43mx\u001b[49m\u001b[43m,\u001b[49m\u001b[43m \u001b[49m\u001b[43my\u001b[49m\u001b[43m,\u001b[49m\u001b[43m \u001b[49m\u001b[38;5;241;43m1\u001b[39;49m\u001b[43m)\u001b[49m\n\u001b[0;32m     25\u001b[0m \u001b[38;5;66;03m# Create a linear polynomial object\u001b[39;00m\n\u001b[0;32m     26\u001b[0m p \u001b[38;5;241m=\u001b[39m np\u001b[38;5;241m.\u001b[39mpoly1d(model)\n",
      "File \u001b[1;32m<__array_function__ internals>:180\u001b[0m, in \u001b[0;36mpolyfit\u001b[1;34m(*args, **kwargs)\u001b[0m\n",
      "File \u001b[1;32m~\\AppData\\Roaming\\jupyterlab-desktop\\jlab_server\\lib\\site-packages\\numpy\\lib\\polynomial.py:638\u001b[0m, in \u001b[0;36mpolyfit\u001b[1;34m(x, y, deg, rcond, full, w, cov)\u001b[0m\n\u001b[0;32m    636\u001b[0m     \u001b[38;5;28;01mraise\u001b[39;00m \u001b[38;5;167;01mTypeError\u001b[39;00m(\u001b[38;5;124m\"\u001b[39m\u001b[38;5;124mexpected 1D vector for x\u001b[39m\u001b[38;5;124m\"\u001b[39m)\n\u001b[0;32m    637\u001b[0m \u001b[38;5;28;01mif\u001b[39;00m x\u001b[38;5;241m.\u001b[39msize \u001b[38;5;241m==\u001b[39m \u001b[38;5;241m0\u001b[39m:\n\u001b[1;32m--> 638\u001b[0m     \u001b[38;5;28;01mraise\u001b[39;00m \u001b[38;5;167;01mTypeError\u001b[39;00m(\u001b[38;5;124m\"\u001b[39m\u001b[38;5;124mexpected non-empty vector for x\u001b[39m\u001b[38;5;124m\"\u001b[39m)\n\u001b[0;32m    639\u001b[0m \u001b[38;5;28;01mif\u001b[39;00m y\u001b[38;5;241m.\u001b[39mndim \u001b[38;5;241m<\u001b[39m \u001b[38;5;241m1\u001b[39m \u001b[38;5;129;01mor\u001b[39;00m y\u001b[38;5;241m.\u001b[39mndim \u001b[38;5;241m>\u001b[39m \u001b[38;5;241m2\u001b[39m:\n\u001b[0;32m    640\u001b[0m     \u001b[38;5;28;01mraise\u001b[39;00m \u001b[38;5;167;01mTypeError\u001b[39;00m(\u001b[38;5;124m\"\u001b[39m\u001b[38;5;124mexpected 1D or 2D array for y\u001b[39m\u001b[38;5;124m\"\u001b[39m)\n",
      "\u001b[1;31mTypeError\u001b[0m: expected non-empty vector for x"
     ]
    },
    {
     "data": {
      "image/png": "[encoded data removed]",
      "text/plain": [
       "<Figure size 432x288 with 1 Axes>"
      ]
     },
     "metadata": {
      "needs_background": "light"
     },
     "output_type": "display_data"
    }
   ],
   "source": [
    "# Re-evaluating the code to plot the data points and regression lines correctly, including the legend\n",
    "\n",
    "# Since the error might be due to incorrect range selection for PAM-D, \n",
    "# let's dynamically determine the available data range for PAM-D and set it correctly.\n",
    "# Find the minimum and maximum pressures with non-NaN values for PAM-D\n",
    "pam_d_data = df['PAM-D'].dropna()\n",
    "pam_d_min_pressure = pam_d_data.index.min()\n",
    "pam_d_max_pressure = pam_d_data.index.max()\n",
    "\n",
    "# Update the pressure range dictionary with the correct values for PAM-D\n",
    "pressure_ranges['PAM-D'] = (pam_d_min_pressure, pam_d_max_pressure)\n",
    "\n",
    "# Plotting the graph again with correct pressure ranges and ensuring the legend is displayed\n",
    "fig, ax = plt.subplots()\n",
    "markers = ['o', 's', '^', 'D']  # Markers for each PAM\n",
    "\n",
    "for i, (col, (min_pressure, max_pressure)) in enumerate(pressure_ranges.items()):\n",
    "    # Filter the data for the current PAM within the specified pressure range\n",
    "    df_for_regression = df.loc[min_pressure:max_pressure, col].dropna()\n",
    "    x = df_for_regression.index.values\n",
    "    y = df_for_regression.values\n",
    "    \n",
    "    # Calculate linear regression\n",
    "    model = np.polyfit(x, y, 1)\n",
    "    # Create a linear polynomial object\n",
    "    p = np.poly1d(model)\n",
    "    \n",
    "    # Plot data points\n",
    "    ax.scatter(x, y, label=col, marker=markers[i], color=colors[i])\n",
    "    \n",
    "    # Generate a range of x values for plotting the regression line\n",
    "    x_line = np.linspace(min_pressure, max_pressure, 100)\n",
    "    # Calculate the y values for the regression line\n",
    "    y_line = p(x_line)\n",
    "    \n",
    "    # Plot regression line within specified pressure range\n",
    "    ax.plot(x_line, y_line, linestyle='--', color=colors[i])\n",
    "\n",
    "# Graph decoration\n",
    "ax.set_xlabel('$P$[MPa]')\n",
    "ax.set_ylabel('$L_u$[mm]')\n",
    "ax.set_xticks(np.arange(0.2, 0.9, 0.1))\n",
    "\n",
    "# Add a legend to the plot\n",
    "ax.legend()\n",
    "\n",
    "plt.grid(True)\n",
    "plt.tight_layout()  # Adjust the padding between and around subplots.\n",
    "\n",
    "# Save the corrected graph\n",
    "save_path_corrected = '/mnt/data/corrected_length_pressure.jpg'\n",
    "plt.savefig(save_path_corrected, bbox_inches='tight')  # Save with minimal whitespace\n",
    "\n",
    "# Display the corrected graph\n",
    "plt.show()\n",
    "\n",
    "# Provide the path to the saved image\n",
    "save_path_corrected\n"
   ]
  },
  {
   "cell_type": "code",
   "execution_count": 55,
   "id": "b93b5054-bbe0-4f08-a70d-9bc42ff598d8",
   "metadata": {},
   "outputs": [
    {
     "data": {
      "image/png": "[encoded data removed]",
      "text/plain": [
       "<Figure size 432x288 with 1 Axes>"
      ]
     },
     "metadata": {
      "needs_background": "light"
     },
     "output_type": "display_data"
    },
    {
     "data": {
      "text/plain": [
       "'C:\\\\Users\\\\Mizuki\\\\University\\\\Reserch\\\\length_sensor\\\\JupyterLab\\\\graph\\\\length_pressure\\\\length_pressure.jpg'"
      ]
     },
     "execution_count": 55,
     "metadata": {},
     "output_type": "execute_result"
    }
   ],
   "source": [
    "# Extending the markers and colors if necessary to ensure there are enough for each PAM series\n",
    "extended_markers = markers * ((len(df.columns) // len(markers)) + 1)\n",
    "extended_colors = colors * ((len(df.columns) // len(colors)) + 1)\n",
    "\n",
    "# Re-plotting the graph ensuring to use extended markers and colors\n",
    "fig, ax = plt.subplots()\n",
    "\n",
    "for i, col in enumerate(df.columns):\n",
    "    # Select data for regression based on the specified pressure range\n",
    "    min_pressure, max_pressure = pressure_ranges[col]\n",
    "    df_for_regression = df[(df.index >= min_pressure) & (df.index <= max_pressure)][col].dropna()\n",
    "    x = df_for_regression.index.values\n",
    "    y = df_for_regression.values\n",
    "    \n",
    "    # Perform linear regression if data is available\n",
    "    if len(x) > 0:\n",
    "        model = np.polyfit(x, y, 1)\n",
    "        p = np.poly1d(model)  # Polynomial for the regression line\n",
    "        \n",
    "        # Plot data points\n",
    "        ax.scatter(x, y, label=col, marker=extended_markers[i], color=extended_colors[i])\n",
    "        \n",
    "        # Plot regression line\n",
    "        x_line = np.linspace(min_pressure, max_pressure, 100)\n",
    "        y_line = p(x_line)\n",
    "        ax.plot(x_line, y_line, linestyle='--', color=extended_colors[i])\n",
    "\n",
    "# Graph decoration\n",
    "ax.set_xlabel('Pressure [MPa]')\n",
    "ax.set_ylabel('Natural Length [mm]')\n",
    "ax.set_xticks(np.arange(0.2, 0.9, 0.1))\n",
    "ax.legend()\n",
    "plt.grid(True)\n",
    "\n",
    "# Save the corrected graph again\n",
    "save_path_corrected ='C:\\\\Users\\\\Mizuki\\\\University\\\\Reserch\\\\length_sensor\\\\JupyterLab\\\\graph\\\\length_pressure\\\\length_pressure.jpg'\n",
    "plt.savefig(save_path_corrected, bbox_inches='tight')\n",
    "\n",
    "# Display the corrected graph\n",
    "plt.show()\n",
    "\n",
    "# Provide the path to the saved image\n",
    "save_path_corrected\n"
   ]
  },
  {
   "cell_type": "code",
   "execution_count": null,
   "id": "98f0b8c6-401e-460a-b36a-a222d89148d0",
   "metadata": {},
   "outputs": [],
   "source": []
  }
 ],
 "metadata": {
  "kernelspec": {
   "display_name": "Python 3 (ipykernel)",
   "language": "python",
   "name": "python3"
  },
  "language_info": {
   "codemirror_mode": {
    "name": "ipython",
    "version": 3
   },
   "file_extension": ".py",
   "mimetype": "text/x-python",
   "name": "python",
   "nbconvert_exporter": "python",
   "pygments_lexer": "ipython3",
   "version": "3.8.13"
  }
 },
 "nbformat": 4,
 "nbformat_minor": 5
}
